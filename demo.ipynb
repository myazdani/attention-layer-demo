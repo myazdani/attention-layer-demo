{
  "nbformat": 4,
  "nbformat_minor": 0,
  "metadata": {
    "kernelspec": {
      "display_name": "Python 3",
      "language": "python",
      "name": "python3"
    },
    "language_info": {
      "codemirror_mode": {
        "name": "ipython",
        "version": 3
      },
      "file_extension": ".py",
      "mimetype": "text/x-python",
      "name": "python",
      "nbconvert_exporter": "python",
      "pygments_lexer": "ipython3",
      "version": "3.8.5"
    },
    "colab": {
      "name": "demo.ipynb",
      "provenance": [],
      "include_colab_link": true
    },
    "accelerator": "GPU"
  },
  "cells": [
    {
      "cell_type": "markdown",
      "metadata": {
        "id": "view-in-github",
        "colab_type": "text"
      },
      "source": [
        "<a href=\"https://colab.research.google.com/github/myazdani/attention-layer-demo/blob/master/demo.ipynb\" target=\"_parent\"><img src=\"https://colab.research.google.com/assets/colab-badge.svg\" alt=\"Open In Colab\"/></a>"
      ]
    },
    {
      "cell_type": "markdown",
      "metadata": {
        "id": "ei9DhU71HULn",
        "colab_type": "text"
      },
      "source": [
        "# Understanding the Attention layer with a toy sequential task\n",
        "\n",
        "François Fleuret came up with a toy sequential processing task that I found really helpful for gaining better intuition behind attention layers. In this notebook I am just going to take his code and work through it. I find going through examples in notebooks to be really helpful, especially when hacking existing code. \n",
        "\n",
        "The task is summarized by this slide from François' deep learning course EE-559: \n",
        "\n",
        "<div>\n",
        "<img src=\"https://i.imgur.com/ez02xV9.png\" width=\"700\"/>\n",
        "</div>\n",
        "\n",
        "Basically, the input consists of a pairs of triangle and rectangle shapes at different heights. The output needs to the same shapes but each pair needs to have the same average height. The slide below highlights how the input triangle pairs will have the same height in the target output (computed as the average height of their inputs):\n",
        "\n",
        "\n",
        "<div>\n",
        "<img src=\"https://i.imgur.com/zDHnv7B.png\" width=\"700\"/>\n",
        "</div>\n",
        "\n",
        "\n",
        "You can find François' original code here: https://fleuret.org/git-extract/pytorch/attentiontoy1d.py\n",
        "\n",
        "The code I use here is simply a tweaked/hacked version of François' hard work 🙏"
      ]
    },
    {
      "cell_type": "code",
      "metadata": {
        "ExecuteTime": {
          "end_time": "2020-09-05T21:06:01.977329Z",
          "start_time": "2020-09-05T21:06:00.135737Z"
        },
        "id": "ie4mzByAHULo",
        "colab_type": "code",
        "colab": {}
      },
      "source": [
        "import torch, math, sys\n",
        "\n",
        "from torch import nn\n",
        "from torch.nn import functional as F\n",
        "\n",
        "import matplotlib.pyplot as plt"
      ],
      "execution_count": 1,
      "outputs": []
    },
    {
      "cell_type": "markdown",
      "metadata": {
        "id": "CQD_aEAAHULt",
        "colab_type": "text"
      },
      "source": [
        "# Data generation\n",
        "François has done the hard work for us by providing functions that generate the types of sequences we want. The details of these functions are not important for understanding how attention layers work, so we can just instantiate them as a data generating object `data_gen`. "
      ]
    },
    {
      "cell_type": "code",
      "metadata": {
        "id": "_nJ6LYOZH5Rc",
        "colab_type": "code",
        "colab": {
          "base_uri": "https://localhost:8080/",
          "height": 204
        },
        "outputId": "a5d96593-6516-48be-f3de-1f598f90ff3d"
      },
      "source": [
        "!wget https://raw.githubusercontent.com/myazdani/attention-layer-demo/master/utils.py"
      ],
      "execution_count": 2,
      "outputs": [
        {
          "output_type": "stream",
          "text": [
            "--2020-09-05 22:04:01--  https://raw.githubusercontent.com/myazdani/attention-layer-demo/master/utils.py\n",
            "Resolving raw.githubusercontent.com (raw.githubusercontent.com)... 151.101.0.133, 151.101.64.133, 151.101.128.133, ...\n",
            "Connecting to raw.githubusercontent.com (raw.githubusercontent.com)|151.101.0.133|:443... connected.\n",
            "HTTP request sent, awaiting response... 200 OK\n",
            "Length: 3583 (3.5K) [text/plain]\n",
            "Saving to: ‘utils.py.2’\n",
            "\n",
            "utils.py.2          100%[===================>]   3.50K  --.-KB/s    in 0s      \n",
            "\n",
            "2020-09-05 22:04:02 (57.9 MB/s) - ‘utils.py.2’ saved [3583/3583]\n",
            "\n"
          ],
          "name": "stdout"
        }
      ]
    },
    {
      "cell_type": "code",
      "metadata": {
        "ExecuteTime": {
          "end_time": "2020-09-05T21:06:01.982372Z",
          "start_time": "2020-09-05T21:06:01.978771Z"
        },
        "id": "dT5-SiMZHULu",
        "colab_type": "code",
        "colab": {}
      },
      "source": [
        "import utils\n",
        "\n",
        "data_gen = utils.DataUtil(seq_height_min = 1.0, \n",
        "                          seq_height_max = 25.0,\n",
        "                          seq_width_min = 5.0, \n",
        "                          seq_width_max = 11.0,\n",
        "                          seq_length = 100,\n",
        "                          group_by_locations = False\n",
        "                         )"
      ],
      "execution_count": 3,
      "outputs": []
    },
    {
      "cell_type": "code",
      "metadata": {
        "ExecuteTime": {
          "end_time": "2020-09-05T21:06:09.822796Z",
          "start_time": "2020-09-05T21:06:01.984468Z"
        },
        "id": "fBgrX-biHULy",
        "colab_type": "code",
        "colab": {}
      },
      "source": [
        "train_input, train_targets, train_tr, train_bx = data_gen.generate_sequences(25000)\n",
        "test_input, test_targets, test_tr, test_bx = data_gen.generate_sequences(1000)"
      ],
      "execution_count": 4,
      "outputs": []
    },
    {
      "cell_type": "code",
      "metadata": {
        "ExecuteTime": {
          "end_time": "2020-09-05T21:06:09.975197Z",
          "start_time": "2020-09-05T21:06:09.824474Z"
        },
        "id": "K8PpSyfiHUL1",
        "colab_type": "code",
        "colab": {
          "base_uri": "https://localhost:8080/",
          "height": 265
        },
        "outputId": "4b50013f-87b8-4210-823e-0e14c7f7f2e6"
      },
      "source": [
        "plt.plot(train_input[1,0,:], label = \"input\")\n",
        "plt.plot(train_targets[1,0,:], label = \"target\")\n",
        "plt.legend();"
      ],
      "execution_count": 5,
      "outputs": [
        {
          "output_type": "display_data",
          "data": {
            "image/png": "[encoded data removed]",
            "text/plain": [
              "<Figure size 432x288 with 1 Axes>"
            ]
          },
          "metadata": {
            "tags": [],
            "needs_background": "light"
          }
        }
      ]
    },
    {
      "cell_type": "markdown",
      "metadata": {
        "id": "bXGdWmNQHUL6",
        "colab_type": "text"
      },
      "source": [
        "# Attention Layer\n",
        "\n",
        "This is where all the action is!\n",
        "\n",
        "The problem is we want to have a layer that *transforms* sequential data into something more useful for a downstream task. \n",
        "\n",
        "Here is our starting point: we have a sequence of feature vectors $\\{x_1, x_2, \\ldots, x_n\\}$ where each feature vector $x_i$ has the same dimension $d$. We could put together all these feature vectors together as a one big matrix $\\mathbf{X} = [ x_1, x_2, \\ldots, x_n]^{T}$ with $n$ rows and $d$ columns (so a stack of $d$ dimensional row vectors). I usually prefer the feature vectors to be column vectors, but I think most tutorials and articles like to represent the sequence of feature vectors as stacks like this so I will go with it.\n",
        "\n",
        "\n",
        "## Sequence of length one case\n",
        "\n",
        "But before we deal with the full sequence, lets start with a simple dummy case $n= 1$ when the sequence just has length 1. In that case $\\mathbf{X} = x_{1}^{T}$ would just be a single row vector with $d$ elements.\n",
        "\n",
        "\n",
        "Unlike a fully connected or convolutional layer, an Attention layer requires *three* intermediate transformations that are referred to as query, key, and value. That might sound complicated, but its just three different matrix multiplications:\n",
        "\\begin{align}\n",
        "q_1 = x_1 W_q  \\\\\n",
        "k_1 = x_1 W_k  \\\\\n",
        "v_1 = x_1 W_v \n",
        "\\end{align}\n",
        "\n",
        "In Linear Algebra jargon, our original feature vector $x_1$ gets projected to *three* different vector spaces spanned by the $W_q$, $W_k$, and $W_v$ matrices. In neural net terminology, we could see these as three different linear fully connected layers. \n",
        "\n",
        "Normally with an MLP, we just have a single fully connected layer and that might be just the feature \"value\" we need and so the transformation $v_1 = x_1 W_v$ would give us the hidden feature representation that we need. \n",
        "\n",
        "**What the Attention layer does is tell us whether a feature value is worth keeping or not.** How we determine if we keep a feature value or not is based on a soft \"look up\" operation with the query and key vectors. In our simple sequence that has just one element this soft lookup is computed as\n",
        "\\begin{align}\n",
        "a = \\sigma(q_1 k_1^{T})\n",
        "\\end{align}\n",
        "\n",
        "Recall that $q_1$ and $k_1$ are both row vectors, so $a$ is just a scalar and since its being passed through a sigmoid it is between 0 and 1. Having computed the attention \"vector\" (which in this case is such a scalar because our sequence has length 1), the output of the attention layer can now be computed as:\n",
        "\n",
        "\\begin{align}\n",
        "z_1 = a v_1 \n",
        "\\end{align}\n",
        "\n",
        "Instead of breaking this into multiple steps, we could have also equivalently written this as:\n",
        "\n",
        "\n",
        "\n",
        "\\begin{align}\n",
        "z_1 = \\sigma(q_1 k_1^{T})v_1 \n",
        "\\end{align}\n",
        "\n",
        "In the usual MLP, the $a = 1$ and our hidden representation would just be $v_1$. But when we have $a =\\sigma(q_1 k_1^{T})$ we have $0 < a < 1$ and effectively have a gating factor control just by how much we want to keep the feature value $v_1$.\n",
        "\n",
        "## Sequence of length $n$ case\n",
        "\n",
        "When a sequence has just length one, this gating is not so interesting. Things get more interesting when we have sequences that are longer. If we have two sequences $x_1$ and $x_2$ then we can calculate\n",
        "\n",
        "\\begin{align}\n",
        "q_1 = x_1 W_q, \\;  q_2 = x_2 W_q\\\\\n",
        "k_1 = x_1 W_k, \\;  k_2 = x_2 W_k \\\\\n",
        "v_1 = x_1 W_v, \\;  v_2 = x_2 W_v \n",
        "\\end{align}\n",
        "\n",
        "Of course, since we are applying the *same* $W_q$, $W_k$, and $W_v$ matrices to each sequence element, we can compute the query feature vectors as\n",
        "\n",
        "\\begin{align}\n",
        "\\begin{bmatrix} q_1\\\\ q_2 \\end{bmatrix} = \\begin{bmatrix} x_1\\\\ x_2 \\end{bmatrix} W_q,\n",
        "\\end{align}\n",
        "\n",
        "the key feature vectors as\n",
        "\n",
        "\\begin{align}\n",
        "\\begin{bmatrix} k_1\\\\ k_2 \\end{bmatrix} = \\begin{bmatrix} x_1\\\\ x_2 \\end{bmatrix} W_k,\n",
        "\\end{align}\n",
        "\n",
        "and the value feature vectors as \n",
        "\n",
        "\\begin{align}\n",
        "\\begin{bmatrix} v_1\\\\ v_2 \\end{bmatrix} = \\begin{bmatrix} x_1\\\\ x_2 \\end{bmatrix} W_v.\n",
        "\\end{align}\n",
        "\n",
        "The query, key, and value transformation matrices $W_q$, $W_k$, and $W_v$ don't care what the length of the sequence is. Another way of thinking about this is we are applying the three separate fully connected layers to each feature vector in the sequence. Pictorially, these operations can be visualized with this diagram created by Jay Alammar (taken from his [excellent tutorial](http://jalammar.github.io/illustrated-transformer/)):\n",
        "\n",
        "\n",
        "<div>\n",
        "<img src=\"http://jalammar.github.io/images/t/self-attention-matrix-calculation.png\" width=\"400\"/>\n",
        "</div>\n",
        "\n",
        "Note in Jay's illustration, the left-hand-side and right-hand-side are swapped with what I've shown. \n",
        "\n",
        "\n",
        "\n",
        "Finally, now that we have the query, key, and value feature vectors, we can calculate which parts of the value feature vector to attend to. But now that we have a sequence greater than length 1, we don't have a single attention gate but rather a *matrix* $A$ of attentions that considers all possibly pairwise combinations including to itself:\n",
        "\n",
        "\\begin{align}\n",
        "A = \\sigma\\left(\\begin{bmatrix} q_1\\\\ q_2 \\end{bmatrix} \\begin{bmatrix} k_1^{T} & k_2^{T} \\end{bmatrix} \\right)\n",
        "\\end{align}\n",
        "\n",
        "where $\\sigma(\\cdot)$ is the softmax function. Having calculated the attention matrix $A$ we can now compute the the hidden sequence representation as:\n",
        "\n",
        "\\begin{align}\n",
        "\\begin{bmatrix} z_1\\\\ z_2 \\end{bmatrix}=  A \\begin{bmatrix} v_1\\\\ v_2 \\end{bmatrix}.\n",
        "\\end{align}\n",
        "\n",
        "\n",
        "We can of course write this more compactly as\n",
        "\n",
        "\\begin{align}\n",
        "\\begin{bmatrix} z_1\\\\ z_2 \\end{bmatrix}=  \\sigma\\left(\\begin{bmatrix} q_1\\\\ q_2 \\end{bmatrix} \\begin{bmatrix} k_1^{T} & k_2^{T} \\end{bmatrix} \\right) \\begin{bmatrix} v_1\\\\ v_2 \\end{bmatrix}.\n",
        "\\end{align}\n",
        " \n",
        "and we can again view this pictorially as\n",
        "\n",
        "\n",
        "\n",
        "<div>\n",
        "<img src=\"http://jalammar.github.io/images/t/self-attention-matrix-calculation-2.png\" width=\"500\"/>\n",
        "</div>\n",
        "\n",
        "where the left-hand-side and right-hand-side are swapped.\n",
        "\n",
        "\n",
        "\n",
        "**And that's our attention layer!** To summarize, lets breakdown what we did in steps:\n",
        "\n",
        "1. The attention layer first linearly transforms each feature vector in the input sequence into three sequences of query, key, and value feature vectors. \n",
        "\n",
        "2. The sequence of query and key feature are then multiplied by an \"outer-product\" operation and scaled by the softmax function to create an attention matrix $A$. The attention matrix $A$ is a square matrix its number of rows and columns equals the length of the input sequence. \n",
        "\n",
        "3. Finally, the sequence of value feature vectors is scaled by the attention matrix $A$ to create the output sequence feature vector.\n",
        "\n",
        "\n",
        "In transformer architecture, this would be called a \"single attention head\" and in general transformer architecture have multiple heads. Each head has the same operations here but because the query, key, and value transformations are different for each head (ie, initialized to different values at the start of training), they represent different features and different notions of attention. \n",
        "\n",
        "\n",
        "For our toy example here however we don't need multiple heads and one head will do just fine. "
      ]
    },
    {
      "cell_type": "markdown",
      "metadata": {
        "id": "bhbqswRPHUL7",
        "colab_type": "text"
      },
      "source": [
        "## AttentionLayer class definition"
      ]
    },
    {
      "cell_type": "code",
      "metadata": {
        "ExecuteTime": {
          "end_time": "2020-09-05T21:06:09.982670Z",
          "start_time": "2020-09-05T21:06:09.976817Z"
        },
        "id": "iCLbPUwkHUL7",
        "colab_type": "code",
        "colab": {}
      },
      "source": [
        "class AttentionLayer(nn.Module):\n",
        "    def __init__(self, in_channels, out_channels, key_channels):\n",
        "        super(AttentionLayer, self).__init__()\n",
        "        self.conv_Q = nn.Conv1d(in_channels, key_channels, kernel_size = 1, bias = False)\n",
        "        self.conv_K = nn.Conv1d(in_channels, key_channels, kernel_size = 1, bias = False)\n",
        "        self.conv_V = nn.Conv1d(in_channels, out_channels, kernel_size = 1, bias = False)\n",
        "\n",
        "    def forward(self, x):\n",
        "        Q = self.conv_Q(x)\n",
        "        K = self.conv_K(x)\n",
        "        V = self.conv_V(x)\n",
        "        A = Q.permute(0, 2, 1).matmul(K).softmax(2)\n",
        "        x = A.matmul(V.permute(0, 2, 1)).permute(0, 2, 1)\n",
        "        return x\n",
        "\n",
        "    def __repr__(self):\n",
        "        return self._get_name() + \\\n",
        "            '(in_channels={}, out_channels={}, key_channels={})'.format(\n",
        "                self.conv_Q.in_channels,\n",
        "                self.conv_V.out_channels,\n",
        "                self.conv_K.out_channels\n",
        "            )\n",
        "\n",
        "    def attention(self, x):\n",
        "        Q = self.conv_Q(x)\n",
        "        K = self.conv_K(x)\n",
        "        return Q.permute(0, 2, 1).matmul(K).softmax(2)"
      ],
      "execution_count": 6,
      "outputs": []
    },
    {
      "cell_type": "code",
      "metadata": {
        "ExecuteTime": {
          "end_time": "2020-09-05T21:06:09.987510Z",
          "start_time": "2020-09-05T21:06:09.984361Z"
        },
        "id": "SU__9okkHUL-",
        "colab_type": "code",
        "colab": {
          "base_uri": "https://localhost:8080/",
          "height": 71
        },
        "outputId": "8573d08c-380a-4cd1-fcf3-5f7a22eba3e2"
      },
      "source": [
        "sample_seq = torch.randn(1,3,6, names = (\"batch\", 'features', 'seq'))\n",
        "#sample_seq = torch.randn(1,3,6)"
      ],
      "execution_count": 7,
      "outputs": [
        {
          "output_type": "stream",
          "text": [
            "/usr/local/lib/python3.6/dist-packages/ipykernel_launcher.py:1: UserWarning: Named tensors and all their associated APIs are an experimental feature and subject to change. Please do not use them for anything important until they are released as stable. (Triggered internally at  /pytorch/c10/core/TensorImpl.h:840.)\n",
            "  \"\"\"Entry point for launching an IPython kernel.\n"
          ],
          "name": "stderr"
        }
      ]
    },
    {
      "cell_type": "code",
      "metadata": {
        "ExecuteTime": {
          "end_time": "2020-09-05T21:06:10.147295Z",
          "start_time": "2020-09-05T21:06:09.989519Z"
        },
        "id": "4ZNc9So8HUMD",
        "colab_type": "code",
        "colab": {
          "base_uri": "https://localhost:8080/",
          "height": 233
        },
        "outputId": "57cf2b87-dc74-4c1a-9466-d05ab5967714"
      },
      "source": [
        "#plt.figure(figsize = (24,12))\n",
        "\n",
        "\n",
        "plt.imshow(sample_seq[0]);\n",
        "plt.xlabel(\"Sequence id\");\n",
        "plt.ylabel(\"Features\");"
      ],
      "execution_count": 8,
      "outputs": [
        {
          "output_type": "display_data",
          "data": {
            "image/png": "[encoded data removed]",
            "text/plain": [
              "<Figure size 432x288 with 1 Axes>"
            ]
          },
          "metadata": {
            "tags": [],
            "needs_background": "light"
          }
        }
      ]
    },
    {
      "cell_type": "code",
      "metadata": {
        "ExecuteTime": {
          "end_time": "2020-09-05T21:06:10.277489Z",
          "start_time": "2020-09-05T21:06:10.149792Z"
        },
        "id": "iEEuH283HUMG",
        "colab_type": "code",
        "colab": {
          "base_uri": "https://localhost:8080/",
          "height": 178
        },
        "outputId": "f72c8d6b-8535-45e2-e15e-bffd66c433a1"
      },
      "source": [
        "attention_layer = AttentionLayer(in_channels=3, out_channels=2, key_channels=3)\n",
        "z = attention_layer((sample_seq.rename(None)))\n",
        "plt.imshow(z[0].detach().numpy());\n",
        "plt.xlabel(\"Sequence id\");\n",
        "plt.ylabel(\"Features\");"
      ],
      "execution_count": 9,
      "outputs": [
        {
          "output_type": "display_data",
          "data": {
            "image/png": "[encoded data removed]",
            "text/plain": [
              "<Figure size 432x288 with 1 Axes>"
            ]
          },
          "metadata": {
            "tags": [],
            "needs_background": "light"
          }
        }
      ]
    },
    {
      "cell_type": "code",
      "metadata": {
        "ExecuteTime": {
          "end_time": "2020-09-05T21:06:10.410588Z",
          "start_time": "2020-09-05T21:06:10.279373Z"
        },
        "id": "A4w5SZBNHUMJ",
        "colab_type": "code",
        "colab": {
          "base_uri": "https://localhost:8080/",
          "height": 279
        },
        "outputId": "12a578d9-ada9-4356-ba0b-e5c3a6d9dd32"
      },
      "source": [
        "plt.imshow(attention_layer.attention((sample_seq.rename(None)))[0].detach().numpy())\n",
        "plt.xlabel(\"Sequence id\")\n",
        "plt.ylabel(\"Sequence id\");"
      ],
      "execution_count": 10,
      "outputs": [
        {
          "output_type": "display_data",
          "data": {
            "image/png": "[encoded data removed]",
            "text/plain": [
              "<Figure size 432x288 with 1 Axes>"
            ]
          },
          "metadata": {
            "tags": [],
            "needs_background": "light"
          }
        }
      ]
    },
    {
      "cell_type": "markdown",
      "metadata": {
        "id": "_LocNqffHUML",
        "colab_type": "text"
      },
      "source": [
        "# Network architecture"
      ]
    },
    {
      "cell_type": "code",
      "metadata": {
        "id": "DPMVXnvuPXUT",
        "colab_type": "code",
        "colab": {}
      },
      "source": [
        "from collections import OrderedDict"
      ],
      "execution_count": 11,
      "outputs": []
    },
    {
      "cell_type": "code",
      "metadata": {
        "ExecuteTime": {
          "end_time": "2020-09-05T21:06:10.417903Z",
          "start_time": "2020-09-05T21:06:10.412244Z"
        },
        "id": "mzK0VcL1HUML",
        "colab_type": "code",
        "colab": {}
      },
      "source": [
        "in_channels = 1 #+ positional_input.size(1)\n",
        "ks = 5\n",
        "nc = 64\n",
        "\n",
        "model = nn.Sequential(OrderedDict({\n",
        "    'conv1': nn.Conv1d(in_channels, nc, kernel_size = ks, padding = ks//2),\n",
        "    'relu1': nn.ReLU(),\n",
        "    'conv2': nn.Conv1d(nc, nc, kernel_size = ks, padding = ks//2),\n",
        "    'relu2': nn.ReLU(),\n",
        "    'attention': AttentionLayer(nc, nc, nc),\n",
        "    'relu3': nn.ReLU(),\n",
        "    'conv3': nn.Conv1d(nc, nc, kernel_size = ks, padding = ks//2),\n",
        "    'relu4': nn.ReLU(),\n",
        "    'conv4': nn.Conv1d(nc,  1, kernel_size = ks, padding = ks//2)    \n",
        "\n",
        "})\n",
        ")"
      ],
      "execution_count": 12,
      "outputs": []
    },
    {
      "cell_type": "code",
      "metadata": {
        "ExecuteTime": {
          "end_time": "2020-09-05T21:06:10.423859Z",
          "start_time": "2020-09-05T21:06:10.419540Z"
        },
        "id": "BsqTF5AAHUMO",
        "colab_type": "code",
        "colab": {}
      },
      "source": [
        "optimizer = torch.optim.Adam(model.parameters(), lr = 1e-3)\n",
        "mse_loss = nn.MSELoss()"
      ],
      "execution_count": 13,
      "outputs": []
    },
    {
      "cell_type": "markdown",
      "metadata": {
        "id": "xN2wOqyKHUMR",
        "colab_type": "text"
      },
      "source": [
        "## Transfer data to device"
      ]
    },
    {
      "cell_type": "code",
      "metadata": {
        "ExecuteTime": {
          "end_time": "2020-09-05T21:06:10.429107Z",
          "start_time": "2020-09-05T21:06:10.425672Z"
        },
        "id": "XigdUkWtHUMR",
        "colab_type": "code",
        "colab": {}
      },
      "source": [
        "if torch.cuda.is_available():\n",
        "    device = torch.device('cuda')\n",
        "    torch.backends.cudnn.benchmark = True\n",
        "else:\n",
        "    device = torch.device('cpu')"
      ],
      "execution_count": 14,
      "outputs": []
    },
    {
      "cell_type": "code",
      "metadata": {
        "ExecuteTime": {
          "end_time": "2020-09-05T21:06:10.435023Z",
          "start_time": "2020-09-05T21:06:10.430960Z"
        },
        "id": "daoJibfGHUMU",
        "colab_type": "code",
        "colab": {}
      },
      "source": [
        "model.to(device)\n",
        "mse_loss.to(device)\n",
        "train_input, train_targets = train_input.to(device), train_targets.to(device)\n",
        "test_input, test_targets = test_input.to(device), test_targets.to(device)"
      ],
      "execution_count": 15,
      "outputs": []
    },
    {
      "cell_type": "code",
      "metadata": {
        "ExecuteTime": {
          "end_time": "2020-09-05T21:06:10.466321Z",
          "start_time": "2020-09-05T21:06:10.436637Z"
        },
        "scrolled": false,
        "id": "uUKacsLhHUMW",
        "colab_type": "code",
        "colab": {
          "base_uri": "https://localhost:8080/",
          "height": 34
        },
        "outputId": "b5ce64f4-7fbc-4874-ed73-13b386177be0"
      },
      "source": [
        "mu, std = train_input.mean(), train_input.std()\n",
        "mu, std"
      ],
      "execution_count": 16,
      "outputs": [
        {
          "output_type": "execute_result",
          "data": {
            "text/plain": [
              "(tensor(3.3242, device='cuda:0'), tensor(6.2432, device='cuda:0'))"
            ]
          },
          "metadata": {
            "tags": []
          },
          "execution_count": 16
        }
      ]
    },
    {
      "cell_type": "markdown",
      "metadata": {
        "id": "CHNxFu8KHUMY",
        "colab_type": "text"
      },
      "source": [
        "# Run training loop"
      ]
    },
    {
      "cell_type": "code",
      "metadata": {
        "ExecuteTime": {
          "end_time": "2020-09-05T21:06:10.471236Z",
          "start_time": "2020-09-05T21:06:10.468084Z"
        },
        "id": "_LFPH9yCHUMZ",
        "colab_type": "code",
        "colab": {}
      },
      "source": [
        "nb_epochs = 250\n",
        "batch_size = 100"
      ],
      "execution_count": 17,
      "outputs": []
    },
    {
      "cell_type": "code",
      "metadata": {
        "ExecuteTime": {
          "end_time": "2020-09-05T21:06:37.314315Z",
          "start_time": "2020-09-05T21:06:10.473616Z"
        },
        "id": "AUT0dpGyHUMb",
        "colab_type": "code",
        "colab": {
          "base_uri": "https://localhost:8080/",
          "height": 1000
        },
        "outputId": "8c3e006e-08f9-47bf-f9a9-213e5ed3f6db"
      },
      "source": [
        "%%time\n",
        "for e in range(nb_epochs):\n",
        "\n",
        "    acc_loss = 0.0\n",
        "\n",
        "    for tr_in, tr_target in zip(train_input.split(batch_size),\n",
        "                             train_targets.split(batch_size)):\n",
        "        \n",
        "\n",
        "        #input = torch.cat((input, positional_input.expand(input.size(0), -1, -1)), 1)\n",
        "\n",
        "        output = model((tr_in - mu) / std)\n",
        "        loss = mse_loss(output, tr_target)\n",
        "\n",
        "        optimizer.zero_grad()\n",
        "        loss.backward()\n",
        "        optimizer.step()\n",
        "\n",
        "        acc_loss += loss.item()\n",
        "\n",
        "    print(f'{e+1} {acc_loss}')\n",
        "    "
      ],
      "execution_count": 18,
      "outputs": [
        {
          "output_type": "stream",
          "text": [
            "1 1466.5332705974579\n",
            "2 425.74946987628937\n",
            "3 275.7107381224632\n",
            "4 165.37719243764877\n",
            "5 116.62995287775993\n",
            "6 87.89386174082756\n",
            "7 71.04897940158844\n",
            "8 59.7380356490612\n",
            "9 51.82821983098984\n",
            "10 47.309213779866695\n",
            "11 43.50212758034468\n",
            "12 36.15989652276039\n",
            "13 31.862245701253414\n",
            "14 25.175513736903667\n",
            "15 23.828681014478207\n",
            "16 22.214049965143204\n",
            "17 20.41173818334937\n",
            "18 19.48596493154764\n",
            "19 17.58207629621029\n",
            "20 17.17728816717863\n",
            "21 16.636738631874323\n",
            "22 15.427842397242785\n",
            "23 14.791051525622606\n",
            "24 14.39401938393712\n",
            "25 13.898601070046425\n",
            "26 13.553185395896435\n",
            "27 13.015218924731016\n",
            "28 12.59008764103055\n",
            "29 12.138904500752687\n",
            "30 11.829334404319525\n",
            "31 11.424737127497792\n",
            "32 11.128185238689184\n",
            "33 10.76481925137341\n",
            "34 10.431488381698728\n",
            "35 10.169033417478204\n",
            "36 9.77374498732388\n",
            "37 9.512939253821969\n",
            "38 9.4433450140059\n",
            "39 8.880193213000894\n",
            "40 8.912116173654795\n",
            "41 8.773188322782516\n",
            "42 8.389611778780818\n",
            "43 8.577848751097918\n",
            "44 8.048633145168424\n",
            "45 8.087839050218463\n",
            "46 7.846472667530179\n",
            "47 7.667311072349548\n",
            "48 7.52213117480278\n",
            "49 7.281472256407142\n",
            "50 7.231351112946868\n",
            "51 7.049306808039546\n",
            "52 6.668634671717882\n",
            "53 7.225843133404851\n",
            "54 6.608900522813201\n",
            "55 7.190185127779841\n",
            "56 6.698064902797341\n",
            "57 6.337920397520065\n",
            "58 6.055008167400956\n",
            "59 6.562289571389556\n",
            "60 6.267102548852563\n",
            "61 6.093789450824261\n",
            "62 6.000209214165807\n",
            "63 6.197356341406703\n",
            "64 5.809518379159272\n",
            "65 5.7968469727784395\n",
            "66 6.149632673710585\n",
            "67 5.719966730102897\n",
            "68 5.4229131089523435\n",
            "69 5.412435989826918\n",
            "70 5.507195653393865\n",
            "71 5.617690516635776\n",
            "72 5.910249501466751\n",
            "73 5.246521078050137\n",
            "74 5.079446700401604\n",
            "75 5.2913868092000484\n",
            "76 5.216988711617887\n",
            "77 5.707083172164857\n",
            "78 5.267932029440999\n",
            "79 5.214021918363869\n",
            "80 5.322266399860382\n",
            "81 5.107356539927423\n",
            "82 5.112326277419925\n",
            "83 5.084931601770222\n",
            "84 4.999523657374084\n",
            "85 5.018889463506639\n",
            "86 4.944723436608911\n",
            "87 4.947465717792511\n",
            "88 4.982746529392898\n",
            "89 5.010716672055423\n",
            "90 4.786207903176546\n",
            "91 4.751185853034258\n",
            "92 4.700190456584096\n",
            "93 4.7048741187900305\n",
            "94 4.640342576429248\n",
            "95 4.761628928594291\n",
            "96 4.598759865388274\n",
            "97 4.612702050246298\n",
            "98 4.616152932867408\n",
            "99 4.565772520378232\n",
            "100 4.570650019682944\n",
            "101 4.661451827734709\n",
            "102 4.4625730672851205\n",
            "103 4.520245627500117\n",
            "104 4.427140747196972\n",
            "105 4.578043743036687\n",
            "106 4.487851052545011\n",
            "107 4.303626282140613\n",
            "108 4.417232149280608\n",
            "109 4.284553719684482\n",
            "110 4.601343972608447\n",
            "111 4.276529416441917\n",
            "112 4.118801593780518\n",
            "113 4.123322015628219\n",
            "114 3.9424430709332228\n",
            "115 4.091675424948335\n",
            "116 4.049212742596865\n",
            "117 4.122621880844235\n",
            "118 4.0747881000861526\n",
            "119 4.038060005754232\n",
            "120 4.027881027199328\n",
            "121 4.014615725725889\n",
            "122 3.997814629226923\n",
            "123 4.050863955169916\n",
            "124 3.9459827514365315\n",
            "125 3.967231558635831\n",
            "126 3.9797271601855755\n",
            "127 3.9448210140690207\n",
            "128 4.074872085824609\n",
            "129 54.908946957439184\n",
            "130 11.821424167603254\n",
            "131 7.744197100400925\n",
            "132 6.494369050487876\n",
            "133 5.819551229476929\n",
            "134 5.359909189864993\n",
            "135 5.058653647080064\n",
            "136 4.770277746021748\n",
            "137 4.627012272365391\n",
            "138 4.504585052840412\n",
            "139 4.556954013183713\n",
            "140 4.50504273828119\n",
            "141 4.4568193620070815\n",
            "142 4.391734467819333\n",
            "143 4.335236401297152\n",
            "144 4.2974116448313\n",
            "145 4.253094683401287\n",
            "146 4.2115360563620925\n",
            "147 4.168945102021098\n",
            "148 4.134285438805819\n",
            "149 4.081262321211398\n",
            "150 4.014514553360641\n",
            "151 3.926472969353199\n",
            "152 3.862149282358587\n",
            "153 3.9298067884519696\n",
            "154 3.7986491974443197\n",
            "155 3.764371388591826\n",
            "156 3.708026684820652\n",
            "157 3.6796779725700617\n",
            "158 3.6629860792309046\n",
            "159 3.615116666071117\n",
            "160 3.61574827414006\n",
            "161 3.599068472161889\n",
            "162 3.5462040910497308\n",
            "163 3.54547103587538\n",
            "164 3.5404015816748142\n",
            "165 3.4663466652855277\n",
            "166 3.497265382669866\n",
            "167 3.4766153944656253\n",
            "168 3.4694670978933573\n",
            "169 3.4333600969985127\n",
            "170 3.3974608685821295\n",
            "171 3.3500978276133537\n",
            "172 3.325931169092655\n",
            "173 3.436724559403956\n",
            "174 3.221031648106873\n",
            "175 3.3847569450736046\n",
            "176 3.2297977413982153\n",
            "177 3.258929228410125\n",
            "178 3.254510789178312\n",
            "179 3.2817050479352474\n",
            "180 3.217215749435127\n",
            "181 3.193975596688688\n",
            "182 3.2279919879511\n",
            "183 3.2834438011050224\n",
            "184 3.1592974523082376\n",
            "185 3.1925288643687963\n",
            "186 3.1998524768278003\n",
            "187 3.1163808228448033\n",
            "188 3.11886521615088\n",
            "189 3.1604224694892764\n",
            "190 3.113717908039689\n",
            "191 3.088517129421234\n",
            "192 3.094282452017069\n",
            "193 3.1649784510955215\n",
            "194 3.3678164957091212\n",
            "195 3.3851648345589638\n",
            "196 3.1876040287315845\n",
            "197 3.1105375783517957\n",
            "198 3.132198752835393\n",
            "199 3.095939193852246\n",
            "200 3.080745868384838\n",
            "201 2.950334994122386\n",
            "202 2.917144611477852\n",
            "203 2.987841243855655\n",
            "204 3.080896757543087\n",
            "205 3.012832911685109\n",
            "206 3.050375177524984\n",
            "207 3.0356498220935464\n",
            "208 3.0067609632387757\n",
            "209 2.968413815833628\n",
            "210 2.937749957665801\n",
            "211 3.0460853967815638\n",
            "212 2.9826897056773305\n",
            "213 2.9668691027909517\n",
            "214 2.9295597709715366\n",
            "215 3.054095910862088\n",
            "216 2.953674281015992\n",
            "217 2.9622676307335496\n",
            "218 2.9218477718532085\n",
            "219 2.9029101002961397\n",
            "220 3.058945756405592\n",
            "221 3.2207751385867596\n",
            "222 3.031728597357869\n",
            "223 3.017534193582833\n",
            "224 2.9575947243720293\n",
            "225 2.9666278017684817\n",
            "226 2.9422398628666997\n",
            "227 2.938087676651776\n",
            "228 2.9191964315250516\n",
            "229 2.785591566003859\n",
            "230 2.8544820928946137\n",
            "231 2.939577595330775\n",
            "232 2.9246187955141068\n",
            "233 2.831580658443272\n",
            "234 2.8825467517599463\n",
            "235 2.986693792976439\n",
            "236 2.840570528060198\n",
            "237 2.851181725040078\n",
            "238 2.888812973164022\n",
            "239 2.86505333147943\n",
            "240 2.8955175802111626\n",
            "241 2.8903170619159937\n",
            "242 2.881771992892027\n",
            "243 2.82399729732424\n",
            "244 2.816735369153321\n",
            "245 2.8905261866748333\n",
            "246 2.862874887883663\n",
            "247 2.867598728276789\n",
            "248 2.84797197021544\n",
            "249 2.8568548634648323\n",
            "250 2.843682977370918\n",
            "CPU times: user 3min 39s, sys: 2.96 s, total: 3min 42s\n",
            "Wall time: 3min 46s\n"
          ],
          "name": "stdout"
        }
      ]
    },
    {
      "cell_type": "code",
      "metadata": {
        "id": "neuLEASuHUMd",
        "colab_type": "code",
        "colab": {}
      },
      "source": [
        "output = model((test_input - mu) / std)"
      ],
      "execution_count": 19,
      "outputs": []
    },
    {
      "cell_type": "code",
      "metadata": {
        "id": "9s5Zjw2OHUMg",
        "colab_type": "code",
        "colab": {
          "base_uri": "https://localhost:8080/",
          "height": 282
        },
        "outputId": "d53459b6-3ee5-4922-d717-8b3e7d968f76"
      },
      "source": [
        "plt.plot(output[0].detach().cpu().squeeze())\n",
        "plt.plot(test_targets[0].detach().cpu().squeeze())"
      ],
      "execution_count": 20,
      "outputs": [
        {
          "output_type": "execute_result",
          "data": {
            "text/plain": [
              "[<matplotlib.lines.Line2D at 0x7f36d6eaa898>]"
            ]
          },
          "metadata": {
            "tags": []
          },
          "execution_count": 20
        },
        {
          "output_type": "display_data",
          "data": {
            "image/png": "[encoded data removed]",
            "text/plain": [
              "<Figure size 432x288 with 1 Axes>"
            ]
          },
          "metadata": {
            "tags": [],
            "needs_background": "light"
          }
        }
      ]
    },
    {
      "cell_type": "code",
      "metadata": {
        "id": "lqfB2uV9Rao5",
        "colab_type": "code",
        "colab": {}
      },
      "source": [
        "example_input = (test_input[:1] - mu) / std"
      ],
      "execution_count": 21,
      "outputs": []
    },
    {
      "cell_type": "code",
      "metadata": {
        "id": "y_GKq8m1RuKw",
        "colab_type": "code",
        "colab": {
          "base_uri": "https://localhost:8080/",
          "height": 102
        },
        "outputId": "d7d00e12-c18f-4885-cc75-ad3ec0c0947c"
      },
      "source": [
        "features = [example_input]\n",
        "for name, layer in model.named_children():\n",
        "    print(name)\n",
        "    if name == \"attention\":\n",
        "        break    \n",
        "    intermediate_features = layer(features[-1])\n",
        "    features.append(intermediate_features)"
      ],
      "execution_count": 22,
      "outputs": [
        {
          "output_type": "stream",
          "text": [
            "conv1\n",
            "relu1\n",
            "conv2\n",
            "relu2\n",
            "attention\n"
          ],
          "name": "stdout"
        }
      ]
    },
    {
      "cell_type": "code",
      "metadata": {
        "id": "9iwAgAuQSLUP",
        "colab_type": "code",
        "colab": {
          "base_uri": "https://localhost:8080/",
          "height": 718
        },
        "outputId": "dd262d59-71f5-4fc2-a22d-7f2b886c063e"
      },
      "source": [
        "plt.figure(figsize = (24,12))\n",
        "plt.imshow(layer.attention(features[-1])[0].detach().cpu().numpy())"
      ],
      "execution_count": 23,
      "outputs": [
        {
          "output_type": "execute_result",
          "data": {
            "text/plain": [
              "<matplotlib.image.AxesImage at 0x7f36c1fd3eb8>"
            ]
          },
          "metadata": {
            "tags": []
          },
          "execution_count": 23
        },
        {
          "output_type": "display_data",
          "data": {
            "image/png": "[encoded data removed]",
            "text/plain": [
              "<Figure size 1728x864 with 1 Axes>"
            ]
          },
          "metadata": {
            "tags": [],
            "needs_background": "light"
          }
        }
      ]
    },
    {
      "cell_type": "code",
      "metadata": {
        "id": "aNWym8UCSTFj",
        "colab_type": "code",
        "colab": {}
      },
      "source": [
        ""
      ],
      "execution_count": 23,
      "outputs": []
    }
  ]
}