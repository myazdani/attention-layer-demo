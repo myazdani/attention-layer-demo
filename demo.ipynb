{
 "cells": [
  {
   "cell_type": "markdown",
   "metadata": {},
   "source": [
    "# Understanding the Attention layer with a toy sequential task\n",
    "\n",
    "François Fleuret came up with a toy sequential processing task that I found really helpful for gaining better intuition behind attention layers. In this notebook I am just going to take his code and work through it. I find going through examples in notebooks to be really helpful, especially when hacking existing code. \n",
    "\n",
    "The task is summarized by this slide from François' deep learning course EE-559: \n",
    "\n",
    "<div>\n",
    "<img src=\"https://i.imgur.com/ez02xV9.png\" width=\"700\"/>\n",
    "</div>\n",
    "\n",
    "Basically, the input consists of a pairs of triangle and rectangle shapes at different heights. The output needs to the same shapes but each pair needs to have the same average height. The slide below highlights how the input triangle pairs will have the same height in the target output (computed as the average height of their inputs):\n",
    "\n",
    "\n",
    "<div>\n",
    "<img src=\"https://i.imgur.com/zDHnv7B.png\" width=\"700\"/>\n",
    "</div>\n",
    "\n",
    "\n",
    "You can find François' original code here: https://fleuret.org/git-extract/pytorch/attentiontoy1d.py\n",
    "\n",
    "The code I use here is simply a tweaked/hacked version of François' hard work 🙏"
   ]
  },
  {
   "cell_type": "code",
   "execution_count": 1,
   "metadata": {
    "ExecuteTime": {
     "end_time": "2020-09-05T21:06:01.977329Z",
     "start_time": "2020-09-05T21:06:00.135737Z"
    }
   },
   "outputs": [],
   "source": [
    "import torch, math, sys\n",
    "\n",
    "from torch import nn\n",
    "from torch.nn import functional as F\n",
    "\n",
    "import matplotlib.pyplot as plt"
   ]
  },
  {
   "cell_type": "markdown",
   "metadata": {},
   "source": [
    "# Data generation\n",
    "François has done the hard work for us by providing functions that generate the types of sequences we want. The details of these functions are not important for understanding how attention layers work, so we can just instantiate them as a data generating object `data_gen`. "
   ]
  },
  {
   "cell_type": "code",
   "execution_count": 2,
   "metadata": {
    "ExecuteTime": {
     "end_time": "2020-09-05T21:06:01.982372Z",
     "start_time": "2020-09-05T21:06:01.978771Z"
    }
   },
   "outputs": [],
   "source": [
    "import utils\n",
    "\n",
    "data_gen = utils.DataUtil(seq_height_min = 1.0, \n",
    "                          seq_height_max = 25.0,\n",
    "                          seq_width_min = 5.0, \n",
    "                          seq_width_max = 11.0,\n",
    "                          seq_length = 100,\n",
    "                          group_by_locations = False\n",
    "                         )"
   ]
  },
  {
   "cell_type": "code",
   "execution_count": 3,
   "metadata": {
    "ExecuteTime": {
     "end_time": "2020-09-05T21:06:09.822796Z",
     "start_time": "2020-09-05T21:06:01.984468Z"
    }
   },
   "outputs": [],
   "source": [
    "train_input, train_targets, train_tr, train_bx = data_gen.generate_sequences(25000)\n",
    "test_input, test_targets, test_tr, test_bx = data_gen.generate_sequences(1000)"
   ]
  },
  {
   "cell_type": "code",
   "execution_count": 4,
   "metadata": {
    "ExecuteTime": {
     "end_time": "2020-09-05T21:06:09.975197Z",
     "start_time": "2020-09-05T21:06:09.824474Z"
    }
   },
   "outputs": [
    {
     "data": {
      "image/png": "[encoded data removed]",
      "text/plain": [
       "<Figure size 432x288 with 1 Axes>"
      ]
     },
     "metadata": {
      "needs_background": "light"
     },
     "output_type": "display_data"
    }
   ],
   "source": [
    "plt.plot(train_input[1,0,:], label = \"input\")\n",
    "plt.plot(train_targets[1,0,:], label = \"target\")\n",
    "plt.legend();"
   ]
  },
  {
   "cell_type": "markdown",
   "metadata": {},
   "source": [
    "# Attention Layer\n",
    "\n",
    "This is where all the action is!\n",
    "\n",
    "The problem is we want to have a layer that *transforms* sequential data into something more useful for a downstream task. \n",
    "\n",
    "Here is our starting point: we have a sequence of feature vectors $\\{x_1, x_2, \\ldots, x_n\\}$ where each feature vector $x_i$ has the same dimension $d$. We could put together all these feature vectors together as a one big matrix $\\mathbf{X} = [ x_1, x_2, \\ldots, x_n]^{T}$ with $n$ rows and $d$ columns (so a stack of $d$ dimensional row vectors). I usually prefer the feature vectors to be column vectors, but I think most tutorials and articles like to represent the sequence of feature vectors as stacks like this so I will go with it.\n",
    "\n",
    "\n",
    "## Sequence of length one case\n",
    "\n",
    "But before we deal with the full sequence, lets start with a simple dummy case $n= 1$ when the sequence just has length 1. In that case $\\mathbf{X} = x_{1}^{T}$ would just be a single row vector with $d$ elements.\n",
    "\n",
    "\n",
    "Unlike a fully connected or convolutional layer, an Attention layer requires *three* intermediate transformations that are referred to as query, key, and value. That might sound complicated, but its just three different matrix multiplications:\n",
    "\\begin{align}\n",
    "q_1 = x_1 W_q  \\\\\n",
    "k_1 = x_1 W_k  \\\\\n",
    "v_1 = x_1 W_v \n",
    "\\end{align}\n",
    "\n",
    "In Linear Algebra jargon, our original feature vector $x_1$ gets projected to *three* different vector spaces spanned by the $W_q$, $W_k$, and $W_v$ matrices. In neural net terminology, we could see these as three different linear fully connected layers. \n",
    "\n",
    "Normally with an MLP, we just have a single fully connected layer and that might be just the feature \"value\" we need and so the transformation $v_1 = x_1 W_v$ would give us the hidden feature representation that we need. \n",
    "\n",
    "**What the Attention layer does is tell us whether a feature value is worth keeping or not.** How we determine if we keep a feature value or not is based on a soft \"look up\" operation with the query and key vectors. In our simple sequence that has just one element this soft lookup is computed as\n",
    "\\begin{align}\n",
    "a = \\sigma(q_1 k_1^{T})\n",
    "\\end{align}\n",
    "\n",
    "Recall that $q_1$ and $k_1$ are both row vectors, so $a$ is just a scalar and since its being passed through a sigmoid it is between 0 and 1. Having computed the attention \"vector\" (which in this case is such a scalar because our sequence has length 1), the output of the attention layer can now be computed as:\n",
    "\n",
    "\\begin{align}\n",
    "z_1 = a v_1 \n",
    "\\end{align}\n",
    "\n",
    "Instead of breaking this into multiple steps, we could have also equivalently written this as:\n",
    "\n",
    "\n",
    "\n",
    "\\begin{align}\n",
    "z_1 = \\sigma(q_1 k_1^{T})v_1 \n",
    "\\end{align}\n",
    "\n",
    "In the usual MLP, the $a = 1$ and our hidden representation would just be $v_1$. But when we have $a =\\sigma(q_1 k_1^{T})$ we have $0 < a < 1$ and effectively have a gating factor control just by how much we want to keep the feature value $v_1$.\n",
    "\n",
    "## Sequence of length $n$ case\n",
    "\n",
    "When a sequence has just length one, this gating is not so interesting. Things get more interesting when we have sequences that are longer. If we have two sequences $x_1$ and $x_2$ then we can calculate\n",
    "\n",
    "\\begin{align}\n",
    "q_1 = x_1 W_q, \\;  q_2 = x_2 W_q\\\\\n",
    "k_1 = x_1 W_k, \\;  k_2 = x_2 W_k \\\\\n",
    "v_1 = x_1 W_v, \\;  v_2 = x_2 W_v \n",
    "\\end{align}\n",
    "\n",
    "Of course, since we are applying the *same* $W_q$, $W_k$, and $W_v$ matrices to each sequence element, we can compute the query feature vectors as\n",
    "\n",
    "\\begin{align}\n",
    "\\begin{bmatrix} q_1\\\\ q_2 \\end{bmatrix} = \\begin{bmatrix} x_1\\\\ x_2 \\end{bmatrix} W_q,\n",
    "\\end{align}\n",
    "\n",
    "the key feature vectors as\n",
    "\n",
    "\\begin{align}\n",
    "\\begin{bmatrix} k_1\\\\ k_2 \\end{bmatrix} = \\begin{bmatrix} x_1\\\\ x_2 \\end{bmatrix} W_k,\n",
    "\\end{align}\n",
    "\n",
    "and the value feature vectors as \n",
    "\n",
    "\\begin{align}\n",
    "\\begin{bmatrix} v_1\\\\ v_2 \\end{bmatrix} = \\begin{bmatrix} x_1\\\\ x_2 \\end{bmatrix} W_v.\n",
    "\\end{align}\n",
    "\n",
    "The query, key, and value transformation matrices $W_q$, $W_k$, and $W_v$ don't care what the length of the sequence is. Another way of thinking about this is we are applying the three separate fully connected layers to each feature vector in the sequence. Pictorially, these operations can be visualized with this diagram created by Jay Alammar (taken from his [excellent tutorial](http://jalammar.github.io/illustrated-transformer/)):\n",
    "\n",
    "\n",
    "<div>\n",
    "<img src=\"http://jalammar.github.io/images/t/self-attention-matrix-calculation.png\" width=\"400\"/>\n",
    "</div>\n",
    "\n",
    "Note in Jay's illustration, the left-hand-side and right-hand-side are swapped with what I've shown. \n",
    "\n",
    "\n",
    "\n",
    "Finally, now that we have the query, key, and value feature vectors, we can calculate which parts of the value feature vector to attend to. But now that we have a sequence greater than length 1, we don't have a single attention gate but rather a *matrix* $A$ of attentions that considers all possibly pairwise combinations including to itself:\n",
    "\n",
    "\\begin{align}\n",
    "A = \\sigma\\left(\\begin{bmatrix} q_1\\\\ q_2 \\end{bmatrix} \\begin{bmatrix} k_1^{T} & k_2^{T} \\end{bmatrix} \\right)\n",
    "\\end{align}\n",
    "\n",
    "where $\\sigma(\\cdot)$ is the softmax function. Having calculated the attention matrix $A$ we can now compute the the hidden sequence representation as:\n",
    "\n",
    "\\begin{align}\n",
    "\\begin{bmatrix} z_1\\\\ z_2 \\end{bmatrix}=  A \\begin{bmatrix} v_1\\\\ v_2 \\end{bmatrix}.\n",
    "\\end{align}\n",
    "\n",
    "\n",
    "We can of course write this more compactly as\n",
    "\n",
    "\\begin{align}\n",
    "\\begin{bmatrix} z_1\\\\ z_2 \\end{bmatrix}=  \\sigma\\left(\\begin{bmatrix} q_1\\\\ q_2 \\end{bmatrix} \\begin{bmatrix} k_1^{T} & k_2^{T} \\end{bmatrix} \\right) \\begin{bmatrix} v_1\\\\ v_2 \\end{bmatrix}.\n",
    "\\end{align}\n",
    " \n",
    "and we can again view this pictorially as\n",
    "\n",
    "\n",
    "\n",
    "<div>\n",
    "<img src=\"http://jalammar.github.io/images/t/self-attention-matrix-calculation-2.png\" width=\"500\"/>\n",
    "</div>\n",
    "\n",
    "where the left-hand-side and right-hand-side are swapped.\n",
    "\n",
    "\n",
    "\n",
    "**And that's our attention layer!** To summarize, lets breakdown what we did in steps:\n",
    "\n",
    "1. The attention layer first linearly transforms each feature vector in the input sequence into three sequences of query, key, and value feature vectors. \n",
    "\n",
    "2. The sequence of query and key feature are then multiplied by an \"outer-product\" operation and scaled by the softmax function to create an attention matrix $A$. The attention matrix $A$ is a square matrix its number of rows and columns equals the length of the input sequence. \n",
    "\n",
    "3. Finally, the sequence of value feature vectors is scaled by the attention matrix $A$ to create the output sequence feature vector.\n",
    "\n",
    "\n",
    "In transformer architecture, this would be called a \"single attention head\" and in general transformer architecture have multiple heads. Each head has the same operations here but because the query, key, and value transformations are different for each head (ie, initialized to different values at the start of training), they represent different features and different notions of attention. \n",
    "\n",
    "\n",
    "For our toy example here however we don't need multiple heads and one head will do just fine. "
   ]
  },
  {
   "cell_type": "markdown",
   "metadata": {},
   "source": [
    "## AttentionLayer class definition"
   ]
  },
  {
   "cell_type": "code",
   "execution_count": 5,
   "metadata": {
    "ExecuteTime": {
     "end_time": "2020-09-05T21:06:09.982670Z",
     "start_time": "2020-09-05T21:06:09.976817Z"
    }
   },
   "outputs": [],
   "source": [
    "class AttentionLayer(nn.Module):\n",
    "    def __init__(self, in_channels, out_channels, key_channels):\n",
    "        super(AttentionLayer, self).__init__()\n",
    "        self.conv_Q = nn.Conv1d(in_channels, key_channels, kernel_size = 1, bias = False)\n",
    "        self.conv_K = nn.Conv1d(in_channels, key_channels, kernel_size = 1, bias = False)\n",
    "        self.conv_V = nn.Conv1d(in_channels, out_channels, kernel_size = 1, bias = False)\n",
    "\n",
    "    def forward(self, x):\n",
    "        Q = self.conv_Q(x)\n",
    "        K = self.conv_K(x)\n",
    "        V = self.conv_V(x)\n",
    "        A = Q.permute(0, 2, 1).matmul(K).softmax(2)\n",
    "        x = A.matmul(V.permute(0, 2, 1)).permute(0, 2, 1)\n",
    "        return x\n",
    "\n",
    "    def __repr__(self):\n",
    "        return self._get_name() + \\\n",
    "            '(in_channels={}, out_channels={}, key_channels={})'.format(\n",
    "                self.conv_Q.in_channels,\n",
    "                self.conv_V.out_channels,\n",
    "                self.conv_K.out_channels\n",
    "            )\n",
    "\n",
    "    def attention(self, x):\n",
    "        Q = self.conv_Q(x)\n",
    "        K = self.conv_K(x)\n",
    "        return Q.permute(0, 2, 1).matmul(K).softmax(2)"
   ]
  },
  {
   "cell_type": "code",
   "execution_count": 6,
   "metadata": {
    "ExecuteTime": {
     "end_time": "2020-09-05T21:06:09.987510Z",
     "start_time": "2020-09-05T21:06:09.984361Z"
    }
   },
   "outputs": [
    {
     "name": "stderr",
     "output_type": "stream",
     "text": [
      "<ipython-input-6-6ec532055b02>:1: UserWarning: Named tensors and all their associated APIs are an experimental feature and subject to change. Please do not use them for anything important until they are released as stable. (Triggered internally at  /Users/distiller/project/conda/conda-bld/pytorch_1595629449223/work/c10/core/TensorImpl.h:840.)\n",
      "  sample_seq = torch.randn(1,3,6, names = (\"batch\", 'features', 'seq'))\n"
     ]
    }
   ],
   "source": [
    "sample_seq = torch.randn(1,3,6, names = (\"batch\", 'features', 'seq'))\n",
    "#sample_seq = torch.randn(1,3,6)"
   ]
  },
  {
   "cell_type": "code",
   "execution_count": 7,
   "metadata": {
    "ExecuteTime": {
     "end_time": "2020-09-05T21:06:10.147295Z",
     "start_time": "2020-09-05T21:06:09.989519Z"
    }
   },
   "outputs": [
    {
     "data": {
      "image/png": "[encoded data removed]",
      "text/plain": [
       "<Figure size 432x288 with 1 Axes>"
      ]
     },
     "metadata": {
      "needs_background": "light"
     },
     "output_type": "display_data"
    }
   ],
   "source": [
    "#plt.figure(figsize = (24,12))\n",
    "\n",
    "\n",
    "plt.imshow(sample_seq[0]);\n",
    "plt.xlabel(\"Sequence id\");\n",
    "plt.ylabel(\"Features\");"
   ]
  },
  {
   "cell_type": "code",
   "execution_count": 8,
   "metadata": {
    "ExecuteTime": {
     "end_time": "2020-09-05T21:06:10.277489Z",
     "start_time": "2020-09-05T21:06:10.149792Z"
    }
   },
   "outputs": [
    {
     "data": {
      "image/png": "[encoded data removed]",
      "text/plain": [
       "<Figure size 432x288 with 1 Axes>"
      ]
     },
     "metadata": {
      "needs_background": "light"
     },
     "output_type": "display_data"
    }
   ],
   "source": [
    "attention_layer = AttentionLayer(in_channels=3, out_channels=2, key_channels=3)\n",
    "z = attention_layer((sample_seq.rename(None)))\n",
    "plt.imshow(z[0].detach().numpy());\n",
    "plt.xlabel(\"Sequence id\");\n",
    "plt.ylabel(\"Features\");"
   ]
  },
  {
   "cell_type": "code",
   "execution_count": 9,
   "metadata": {
    "ExecuteTime": {
     "end_time": "2020-09-05T21:06:10.410588Z",
     "start_time": "2020-09-05T21:06:10.279373Z"
    }
   },
   "outputs": [
    {
     "data": {
      "image/png": "[encoded data removed]",
      "text/plain": [
       "<Figure size 432x288 with 1 Axes>"
      ]
     },
     "metadata": {
      "needs_background": "light"
     },
     "output_type": "display_data"
    }
   ],
   "source": [
    "plt.imshow(attention_layer.attention((sample_seq.rename(None)))[0].detach().numpy())\n",
    "plt.xlabel(\"Sequence id\")\n",
    "plt.ylabel(\"Sequence id\");"
   ]
  },
  {
   "cell_type": "markdown",
   "metadata": {},
   "source": [
    "# Network architecture"
   ]
  },
  {
   "cell_type": "code",
   "execution_count": 10,
   "metadata": {
    "ExecuteTime": {
     "end_time": "2020-09-05T21:06:10.417903Z",
     "start_time": "2020-09-05T21:06:10.412244Z"
    }
   },
   "outputs": [],
   "source": [
    "in_channels = 1 #+ positional_input.size(1)\n",
    "ks = 5\n",
    "nc = 64\n",
    "\n",
    "model = nn.Sequential(\n",
    "    nn.Conv1d(in_channels, nc, kernel_size = ks, padding = ks//2),\n",
    "    nn.ReLU(),\n",
    "    nn.Conv1d(nc, nc, kernel_size = ks, padding = ks//2),\n",
    "    nn.ReLU(),\n",
    "    AttentionLayer(nc, nc, nc),\n",
    "    nn.ReLU(),\n",
    "    nn.Conv1d(nc, nc, kernel_size = ks, padding = ks//2),\n",
    "    nn.ReLU(),\n",
    "    nn.Conv1d(nc,  1, kernel_size = ks, padding = ks//2)\n",
    ")"
   ]
  },
  {
   "cell_type": "code",
   "execution_count": 11,
   "metadata": {
    "ExecuteTime": {
     "end_time": "2020-09-05T21:06:10.423859Z",
     "start_time": "2020-09-05T21:06:10.419540Z"
    }
   },
   "outputs": [],
   "source": [
    "optimizer = torch.optim.Adam(model.parameters(), lr = 1e-3)\n",
    "mse_loss = nn.MSELoss()"
   ]
  },
  {
   "cell_type": "markdown",
   "metadata": {},
   "source": [
    "## Transfer data to device"
   ]
  },
  {
   "cell_type": "code",
   "execution_count": 12,
   "metadata": {
    "ExecuteTime": {
     "end_time": "2020-09-05T21:06:10.429107Z",
     "start_time": "2020-09-05T21:06:10.425672Z"
    }
   },
   "outputs": [],
   "source": [
    "if torch.cuda.is_available():\n",
    "    device = torch.device('cuda')\n",
    "    torch.backends.cudnn.benchmark = True\n",
    "else:\n",
    "    device = torch.device('cpu')"
   ]
  },
  {
   "cell_type": "code",
   "execution_count": 13,
   "metadata": {
    "ExecuteTime": {
     "end_time": "2020-09-05T21:06:10.435023Z",
     "start_time": "2020-09-05T21:06:10.430960Z"
    }
   },
   "outputs": [],
   "source": [
    "model.to(device)\n",
    "mse_loss.to(device)\n",
    "train_input, train_targets = train_input.to(device), train_targets.to(device)\n",
    "test_input, test_targets = test_input.to(device), test_targets.to(device)"
   ]
  },
  {
   "cell_type": "code",
   "execution_count": 14,
   "metadata": {
    "ExecuteTime": {
     "end_time": "2020-09-05T21:06:10.466321Z",
     "start_time": "2020-09-05T21:06:10.436637Z"
    },
    "scrolled": false
   },
   "outputs": [
    {
     "data": {
      "text/plain": [
       "(tensor(3.3201), tensor(6.2421))"
      ]
     },
     "execution_count": 14,
     "metadata": {},
     "output_type": "execute_result"
    }
   ],
   "source": [
    "mu, std = train_input.mean(), train_input.std()\n",
    "mu, std"
   ]
  },
  {
   "cell_type": "markdown",
   "metadata": {},
   "source": [
    "# Run training loop"
   ]
  },
  {
   "cell_type": "code",
   "execution_count": 15,
   "metadata": {
    "ExecuteTime": {
     "end_time": "2020-09-05T21:06:10.471236Z",
     "start_time": "2020-09-05T21:06:10.468084Z"
    }
   },
   "outputs": [],
   "source": [
    "nb_epochs = 250\n",
    "batch_size = 100"
   ]
  },
  {
   "cell_type": "code",
   "execution_count": 16,
   "metadata": {
    "ExecuteTime": {
     "end_time": "2020-09-05T21:06:37.314315Z",
     "start_time": "2020-09-05T21:06:10.473616Z"
    }
   },
   "outputs": [
    {
     "name": "stdout",
     "output_type": "stream",
     "text": [
      "1 1482.7921084165573\n",
      "CPU times: user 1min 39s, sys: 5.31 s, total: 1min 44s\n",
      "Wall time: 26.8 s\n"
     ]
    }
   ],
   "source": [
    "%%time\n",
    "for e in range(nb_epochs):\n",
    "\n",
    "    acc_loss = 0.0\n",
    "\n",
    "    for tr_in, tr_target in zip(train_input.split(batch_size),\n",
    "                             train_targets.split(batch_size)):\n",
    "        \n",
    "\n",
    "        #input = torch.cat((input, positional_input.expand(input.size(0), -1, -1)), 1)\n",
    "\n",
    "        output = model((tr_in - mu) / std)\n",
    "        loss = mse_loss(output, tr_target)\n",
    "\n",
    "        optimizer.zero_grad()\n",
    "        loss.backward()\n",
    "        optimizer.step()\n",
    "\n",
    "        acc_loss += loss.item()\n",
    "\n",
    "    print(f'{e+1} {acc_loss}')\n",
    "    \n",
    "    break\n"
   ]
  },
  {
   "cell_type": "code",
   "execution_count": null,
   "metadata": {},
   "outputs": [],
   "source": []
  },
  {
   "cell_type": "code",
   "execution_count": null,
   "metadata": {},
   "outputs": [],
   "source": []
  }
 ],
 "metadata": {
  "kernelspec": {
   "display_name": "Python 3",
   "language": "python",
   "name": "python3"
  },
  "language_info": {
   "codemirror_mode": {
    "name": "ipython",
    "version": 3
   },
   "file_extension": ".py",
   "mimetype": "text/x-python",
   "name": "python",
   "nbconvert_exporter": "python",
   "pygments_lexer": "ipython3",
   "version": "3.8.5"
  }
 },
 "nbformat": 4,
 "nbformat_minor": 4
}
