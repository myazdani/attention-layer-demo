{
 "cells": [
  {
   "cell_type": "markdown",
   "metadata": {
    "colab_type": "text",
    "id": "view-in-github"
   },
   "source": [
    "<a href=\"https://colab.research.google.com/github/myazdani/attention-layer-demo/blob/master/demo.ipynb\" target=\"_parent\"><img src=\"https://colab.research.google.com/assets/colab-badge.svg\" alt=\"Open In Colab\"/></a>"
   ]
  },
  {
   "cell_type": "markdown",
   "metadata": {
    "colab_type": "text",
    "id": "ei9DhU71HULn"
   },
   "source": [
    "# Understanding the Attention layer with a toy sequential task\n",
    "\n",
    "François Fleuret came up with a toy sequential processing task that I found really helpful for gaining better intuition behind attention layers. In this notebook I am just going to take his code and work through it. I find going through examples in notebooks to be really helpful, especially when hacking existing code. \n",
    "\n",
    "The task is summarized by this slide from François' deep learning course EE-559: \n",
    "\n",
    "<div>\n",
    "<img src=\"https://i.imgur.com/ez02xV9.png\" width=\"700\"/>\n",
    "</div>\n",
    "\n",
    "Basically, the input consists of a pairs of triangle and rectangle shapes at different heights. The output needs to the same shapes but each pair needs to have the same average height. The slide below highlights how the input triangle pairs will have the same height in the target output (computed as the average height of their inputs):\n",
    "\n",
    "\n",
    "<div>\n",
    "<img src=\"https://i.imgur.com/zDHnv7B.png\" width=\"700\"/>\n",
    "</div>\n",
    "\n",
    "\n",
    "You can find François' original code here: https://fleuret.org/git-extract/pytorch/attentiontoy1d.py\n",
    "\n",
    "The code I use here is simply a tweaked/hacked version of François' hard work 🙏"
   ]
  },
  {
   "cell_type": "code",
   "execution_count": 1,
   "metadata": {
    "ExecuteTime": {
     "end_time": "2020-09-05T21:06:01.977329Z",
     "start_time": "2020-09-05T21:06:00.135737Z"
    },
    "colab": {},
    "colab_type": "code",
    "id": "ie4mzByAHULo"
   },
   "outputs": [],
   "source": [
    "import torch, math, sys\n",
    "\n",
    "from torch import nn\n",
    "from torch.nn import functional as F\n",
    "\n",
    "from collections import OrderedDict\n",
    "import matplotlib.pyplot as plt"
   ]
  },
  {
   "cell_type": "markdown",
   "metadata": {
    "colab_type": "text",
    "id": "CQD_aEAAHULt"
   },
   "source": [
    "# Data generation\n",
    "François has done the hard work for us by providing functions that generate the types of sequences we want. The details of these functions are not important for understanding how attention layers work, so we can just instantiate them as a data generating object `data_gen`. "
   ]
  },
  {
   "cell_type": "code",
   "execution_count": 2,
   "metadata": {
    "colab": {
     "base_uri": "https://localhost:8080/",
     "height": 204
    },
    "colab_type": "code",
    "id": "_nJ6LYOZH5Rc",
    "outputId": "e510e30a-9597-495c-8391-2bc63ae84193"
   },
   "outputs": [
    {
     "name": "stdout",
     "output_type": "stream",
     "text": [
      "--2020-09-05 23:57:07--  https://raw.githubusercontent.com/myazdani/attention-layer-demo/master/utils.py\n",
      "Resolving raw.githubusercontent.com (raw.githubusercontent.com)... 151.101.0.133, 151.101.64.133, 151.101.128.133, ...\n",
      "Connecting to raw.githubusercontent.com (raw.githubusercontent.com)|151.101.0.133|:443... connected.\n",
      "HTTP request sent, awaiting response... 200 OK\n",
      "Length: 3583 (3.5K) [text/plain]\n",
      "Saving to: ‘utils.py.2’\n",
      "\n",
      "\r",
      "utils.py.2            0%[                    ]       0  --.-KB/s               \r",
      "utils.py.2          100%[===================>]   3.50K  --.-KB/s    in 0s      \n",
      "\n",
      "2020-09-05 23:57:07 (76.9 MB/s) - ‘utils.py.2’ saved [3583/3583]\n",
      "\n"
     ]
    }
   ],
   "source": [
    "## only needed if running on google colab\n",
    "!wget https://raw.githubusercontent.com/myazdani/attention-layer-demo/master/utils.py"
   ]
  },
  {
   "cell_type": "code",
   "execution_count": 3,
   "metadata": {
    "ExecuteTime": {
     "end_time": "2020-09-05T21:06:01.982372Z",
     "start_time": "2020-09-05T21:06:01.978771Z"
    },
    "colab": {},
    "colab_type": "code",
    "id": "dT5-SiMZHULu"
   },
   "outputs": [],
   "source": [
    "import utils\n",
    "\n",
    "data_gen = utils.DataUtil(seq_height_min = 1.0, \n",
    "                          seq_height_max = 25.0,\n",
    "                          seq_width_min = 5.0, \n",
    "                          seq_width_max = 11.0,\n",
    "                          seq_length = 100,\n",
    "                          group_by_locations = False\n",
    "                         )"
   ]
  },
  {
   "cell_type": "code",
   "execution_count": 4,
   "metadata": {
    "ExecuteTime": {
     "end_time": "2020-09-05T21:06:09.822796Z",
     "start_time": "2020-09-05T21:06:01.984468Z"
    },
    "colab": {},
    "colab_type": "code",
    "id": "fBgrX-biHULy"
   },
   "outputs": [],
   "source": [
    "train_input, train_targets, train_tr, train_bx = data_gen.generate_sequences(25000)\n",
    "test_input, test_targets, test_tr, test_bx = data_gen.generate_sequences(1000)"
   ]
  },
  {
   "cell_type": "code",
   "execution_count": 5,
   "metadata": {
    "ExecuteTime": {
     "end_time": "2020-09-05T21:06:09.975197Z",
     "start_time": "2020-09-05T21:06:09.824474Z"
    },
    "colab": {
     "base_uri": "https://localhost:8080/",
     "height": 279
    },
    "colab_type": "code",
    "id": "K8PpSyfiHUL1",
    "outputId": "1250396c-3e4c-4153-f14d-b1da6a54b856"
   },
   "outputs": [
    {
     "data": {
      "image/png": "[encoded data removed]",
      "text/plain": [
       "<Figure size 432x288 with 1 Axes>"
      ]
     },
     "metadata": {
      "needs_background": "light",
      "tags": []
     },
     "output_type": "display_data"
    }
   ],
   "source": [
    "plt.plot(train_input[1,0,:], label = \"input\")\n",
    "plt.plot(train_targets[1,0,:], label = \"target\")\n",
    "plt.xlabel(\"Sequence id\")\n",
    "plt.legend();"
   ]
  },
  {
   "cell_type": "markdown",
   "metadata": {
    "colab_type": "text",
    "id": "ggtGN8zVZY3f"
   },
   "source": [
    "# Attention Layer"
   ]
  },
  {
   "cell_type": "markdown",
   "metadata": {
    "colab_type": "text",
    "id": "8m5v2tfOZcS8"
   },
   "source": [
    "\n",
    "This is where all the action is!\n",
    "\n",
    "The problem is we want to have a layer that *transforms* sequential data into something more useful for a downstream task. \n",
    "\n",
    "Here is our starting point: we have a sequence of feature vectors $\\{x_1, x_2, \\ldots, x_n\\}$ where each feature vector $x_i$ has the same dimension $d$. We could put together all these feature vectors together as a one big matrix $\\mathbf{X} = [ x_1, x_2, \\ldots, x_n]^{T}$ with $n$ rows and $d$ columns (so a stack of $d$ dimensional row vectors). I usually prefer the feature vectors to be column vectors, but I think most tutorials and articles like to represent the sequence of feature vectors as stacks like this so I will go with it.\n"
   ]
  },
  {
   "cell_type": "markdown",
   "metadata": {
    "colab_type": "text",
    "id": "qthfxc1pZhk1"
   },
   "source": [
    "## Sequence of length one case"
   ]
  },
  {
   "cell_type": "markdown",
   "metadata": {
    "colab_type": "text",
    "id": "bXGdWmNQHUL6"
   },
   "source": [
    "\n",
    "\n",
    "\n",
    "But before we deal with the full sequence, lets start with a simple dummy case $n= 1$ when the sequence just has length 1. In that case $\\mathbf{X} = x_{1}^{T}$ would just be a single row vector with $d$ elements.\n",
    "\n",
    "\n",
    "Unlike a fully connected or convolutional layer, an Attention layer requires *three* intermediate transformations that are referred to as query, key, and value. That might sound complicated, but its just three different matrix multiplications:\n",
    "\\begin{equation*}\n",
    "q_1 = x_1 W_q  \\\\\n",
    "k_1 = x_1 W_k  \\\\\n",
    "v_1 = x_1 W_v \n",
    "\\end{equation*}\n",
    "\n",
    "In Linear Algebra jargon, our original feature vector $x_1$ gets projected to *three* different vector spaces spanned by the $W_q$, $W_k$, and $W_v$ matrices. In neural net terminology, we could see these as three different linear fully connected layers. \n",
    "\n",
    "Normally with an MLP, we just have a single fully connected layer and that might be just the feature \"value\" we need and so the transformation $v_1 = x_1 W_v$ would give us the hidden feature representation that we need. \n",
    "\n",
    "**What the Attention layer does is tell us whether a feature value is worth keeping or not.** How we determine if we keep a feature value or not is based on a soft \"look up\" operation with the query and key vectors. In our simple sequence that has just one element this soft lookup is computed as\n",
    "\\begin{equation*}\n",
    "a = \\sigma(q_1 k_1^{T})\n",
    "\\end{equation*}\n",
    "\n",
    "Recall that $q_1$ and $k_1$ are both row vectors, so $a$ is just a scalar and since its being passed through a sigmoid it is between 0 and 1. Having computed the attention \"vector\" (which in this case is such a scalar because our sequence has length 1), the output of the attention layer can now be computed as:\n",
    "\n",
    "\\begin{equation*}\n",
    "z_1 = a v_1 \n",
    "\\end{equation*}\n",
    "\n",
    "Instead of breaking this into multiple steps, we could have also equivalently written this as:\n",
    "\n",
    "\n",
    "\n",
    "\\begin{equation*}\n",
    "z_1 = \\sigma(q_1 k_1^{T})v_1 \n",
    "\\end{equation*}\n",
    "\n",
    "In the usual MLP, the $a = 1$ and our hidden representation would just be $v_1$. But when we have $a =\\sigma(q_1 k_1^{T})$ we have $0 < a < 1$ and effectively have a gating factor control just by how much we want to keep the feature value $v_1$.\n",
    "\n",
    "\n"
   ]
  },
  {
   "cell_type": "markdown",
   "metadata": {
    "colab_type": "text",
    "id": "HWXYVYZtZxzY"
   },
   "source": [
    "\n",
    "## Sequence of length $n$ case"
   ]
  },
  {
   "cell_type": "markdown",
   "metadata": {
    "colab_type": "text",
    "id": "VHxppRf4Znh3"
   },
   "source": [
    "When a sequence has just length one, this gating is not so interesting. Things get more interesting when we have sequences that are longer. If we have two sequences $x_1$ and $x_2$ then we can calculate\n",
    "\n",
    "\\begin{align}\n",
    "q_1 = x_1 W_q, \\;  q_2 = x_2 W_q\\\\\n",
    "k_1 = x_1 W_k, \\;  k_2 = x_2 W_k \\\\\n",
    "v_1 = x_1 W_v, \\;  v_2 = x_2 W_v \n",
    "\\end{align}\n",
    "\n",
    "Of course, since we are applying the *same* $W_q$, $W_k$, and $W_v$ matrices to each sequence element, we can compute the query feature vectors as\n",
    "\n",
    "\\begin{align}\n",
    "\\begin{bmatrix} q_1\\\\ q_2 \\end{bmatrix} = \\begin{bmatrix} x_1\\\\ x_2 \\end{bmatrix} W_q,\n",
    "\\end{align}\n",
    "\n",
    "the key feature vectors as\n",
    "\n",
    "\\begin{align}\n",
    "\\begin{bmatrix} k_1\\\\ k_2 \\end{bmatrix} = \\begin{bmatrix} x_1\\\\ x_2 \\end{bmatrix} W_k,\n",
    "\\end{align}\n",
    "\n",
    "and the value feature vectors as \n",
    "\n",
    "\\begin{align}\n",
    "\\begin{bmatrix} v_1\\\\ v_2 \\end{bmatrix} = \\begin{bmatrix} x_1\\\\ x_2 \\end{bmatrix} W_v.\n",
    "\\end{align}\n",
    "\n",
    "The query, key, and value transformation matrices $W_q$, $W_k$, and $W_v$ don't care what the length of the sequence is. Another way of thinking about this is we are applying the three separate fully connected layers to each feature vector in the sequence. Pictorially, these operations can be visualized with this diagram created by Jay Alammar (taken from his [excellent tutorial](http://jalammar.github.io/illustrated-transformer/)):\n",
    "\n",
    "\n",
    "<div>\n",
    "<img src=\"http://jalammar.github.io/images/t/self-attention-matrix-calculation.png\" width=\"400\"/>\n",
    "</div>\n",
    "\n",
    "Note in Jay's illustration, the left-hand-side and right-hand-side are swapped with what I've shown. \n",
    "\n",
    "\n",
    "\n",
    "Finally, now that we have the query, key, and value feature vectors, we can calculate which parts of the value feature vector to attend to. But now that we have a sequence greater than length 1, we don't have a single attention gate but rather a *matrix* $A$ of attentions that considers all possibly pairwise combinations including to itself:\n",
    "\n",
    "\\begin{align}\n",
    "A = \\sigma\\left(\\begin{bmatrix} q_1\\\\ q_2 \\end{bmatrix} \\begin{bmatrix} k_1^{T} & k_2^{T} \\end{bmatrix} \\right)\n",
    "\\end{align}\n",
    "\n",
    "where $\\sigma(\\cdot)$ is the softmax function. Having calculated the attention matrix $A$ we can now compute the the hidden sequence representation as:\n",
    "\n",
    "\\begin{align}\n",
    "\\begin{bmatrix} z_1\\\\ z_2 \\end{bmatrix}=  A \\begin{bmatrix} v_1\\\\ v_2 \\end{bmatrix}.\n",
    "\\end{align}\n",
    "\n",
    "\n",
    "We can of course write this more compactly as\n",
    "\n",
    "\\begin{align}\n",
    "\\begin{bmatrix} z_1\\\\ z_2 \\end{bmatrix}=  \\sigma\\left(\\begin{bmatrix} q_1\\\\ q_2 \\end{bmatrix} \\begin{bmatrix} k_1^{T} & k_2^{T} \\end{bmatrix} \\right) \\begin{bmatrix} v_1\\\\ v_2 \\end{bmatrix}.\n",
    "\\end{align}\n",
    " \n",
    "and we can again view this pictorially as\n",
    "\n",
    "\n",
    "\n",
    "<div>\n",
    "<img src=\"http://jalammar.github.io/images/t/self-attention-matrix-calculation-2.png\" width=\"500\"/>\n",
    "</div>\n",
    "\n",
    "where the left-hand-side and right-hand-side are swapped.\n",
    "\n",
    "\n",
    "\n",
    "**And that's our attention layer!** To summarize, lets breakdown what we did in steps:\n",
    "\n",
    "1. The attention layer first linearly transforms each feature vector in the input sequence into three sequences of query, key, and value feature vectors. \n",
    "\n",
    "2. The sequence of query and key feature are then multiplied by an \"outer-product\" operation and scaled by the softmax function to create an attention matrix $A$. The attention matrix $A$ is a square matrix its number of rows and columns equals the length of the input sequence. \n",
    "\n",
    "3. Finally, the sequence of value feature vectors is scaled by the attention matrix $A$ to create the output sequence feature vector.\n",
    "\n",
    "\n",
    "In transformer architecture, this would be called a \"single attention head\" and in general transformer architecture have multiple heads. Each head has the same operations here but because the query, key, and value transformations are different for each head (ie, initialized to different values at the start of training), they represent different features and different notions of attention. \n",
    "\n",
    "\n",
    "For our toy example here however we don't need multiple heads and one head will do just fine. "
   ]
  },
  {
   "cell_type": "markdown",
   "metadata": {
    "colab_type": "text",
    "id": "bhbqswRPHUL7"
   },
   "source": [
    "## AttentionLayer class definition\n",
    "\n",
    "Below is just the definition of the attention layer we have discussed in code:"
   ]
  },
  {
   "cell_type": "code",
   "execution_count": 6,
   "metadata": {
    "ExecuteTime": {
     "end_time": "2020-09-05T21:06:09.982670Z",
     "start_time": "2020-09-05T21:06:09.976817Z"
    },
    "colab": {},
    "colab_type": "code",
    "id": "iCLbPUwkHUL7"
   },
   "outputs": [],
   "source": [
    "class AttentionLayer(nn.Module):\n",
    "    def __init__(self, in_channels, out_channels, key_channels):\n",
    "        super(AttentionLayer, self).__init__()\n",
    "        self.conv_Q = nn.Conv1d(in_channels, key_channels, kernel_size = 1, bias = False)\n",
    "        self.conv_K = nn.Conv1d(in_channels, key_channels, kernel_size = 1, bias = False)\n",
    "        self.conv_V = nn.Conv1d(in_channels, out_channels, kernel_size = 1, bias = False)\n",
    "\n",
    "    def forward(self, x):\n",
    "        Q = self.conv_Q(x)\n",
    "        K = self.conv_K(x)\n",
    "        V = self.conv_V(x)\n",
    "        A = Q.permute(0, 2, 1).matmul(K).softmax(2)\n",
    "        x = A.matmul(V.permute(0, 2, 1)).permute(0, 2, 1)\n",
    "        return x\n",
    "\n",
    "    def __repr__(self):\n",
    "        return self._get_name() + \\\n",
    "            '(in_channels={}, out_channels={}, key_channels={})'.format(\n",
    "                self.conv_Q.in_channels,\n",
    "                self.conv_V.out_channels,\n",
    "                self.conv_K.out_channels\n",
    "            )\n",
    "\n",
    "    def attention(self, x):\n",
    "        Q = self.conv_Q(x)\n",
    "        K = self.conv_K(x)\n",
    "        return Q.permute(0, 2, 1).matmul(K).softmax(2)"
   ]
  },
  {
   "cell_type": "markdown",
   "metadata": {
    "colab_type": "text",
    "id": "YcHryLHTiFTc"
   },
   "source": [
    "Let's give it a quick spin by testing it on some sample data. I'll generate a short sequence a random tensor. The first dimension corresponds to the batch, the second dimension is the featuers, and the last dimension is the sequence. "
   ]
  },
  {
   "cell_type": "code",
   "execution_count": 7,
   "metadata": {
    "ExecuteTime": {
     "end_time": "2020-09-05T21:06:09.987510Z",
     "start_time": "2020-09-05T21:06:09.984361Z"
    },
    "colab": {
     "base_uri": "https://localhost:8080/",
     "height": 71
    },
    "colab_type": "code",
    "id": "SU__9okkHUL-",
    "outputId": "0fb28c7f-e701-4c8d-c684-bb43d256ef45"
   },
   "outputs": [
    {
     "name": "stderr",
     "output_type": "stream",
     "text": [
      "/usr/local/lib/python3.6/dist-packages/ipykernel_launcher.py:1: UserWarning: Named tensors and all their associated APIs are an experimental feature and subject to change. Please do not use them for anything important until they are released as stable. (Triggered internally at  /pytorch/c10/core/TensorImpl.h:840.)\n",
      "  \"\"\"Entry point for launching an IPython kernel.\n"
     ]
    }
   ],
   "source": [
    "sample_seq = torch.randn(1,3,6, names = (\"batch\", 'features', 'seq'))\n",
    "#sample_seq = torch.randn(1,3,6)"
   ]
  },
  {
   "cell_type": "markdown",
   "metadata": {
    "colab_type": "text",
    "id": "6zKP5btcilZg"
   },
   "source": [
    "So we created sequence that has length 6 where at each time slice there are 3 features. Below we can visualize this tensor:"
   ]
  },
  {
   "cell_type": "code",
   "execution_count": 8,
   "metadata": {
    "ExecuteTime": {
     "end_time": "2020-09-05T21:06:10.147295Z",
     "start_time": "2020-09-05T21:06:09.989519Z"
    },
    "colab": {
     "base_uri": "https://localhost:8080/",
     "height": 233
    },
    "colab_type": "code",
    "id": "4ZNc9So8HUMD",
    "outputId": "6d3e7e1a-e2d7-4bf8-9a6f-eb4f4b4120c7"
   },
   "outputs": [
    {
     "data": {
      "image/png": "[encoded data removed]",
      "text/plain": [
       "<Figure size 432x288 with 1 Axes>"
      ]
     },
     "metadata": {
      "needs_background": "light",
      "tags": []
     },
     "output_type": "display_data"
    }
   ],
   "source": [
    "plt.imshow(sample_seq[0]);\n",
    "plt.xlabel(\"Sequence id\");\n",
    "plt.ylabel(\"Features\");"
   ]
  },
  {
   "cell_type": "markdown",
   "metadata": {
    "colab_type": "text",
    "id": "91Y18rNJi2Zt"
   },
   "source": [
    "Let's take this example input sequence and transform it with an attention layer and visualize:"
   ]
  },
  {
   "cell_type": "code",
   "execution_count": 9,
   "metadata": {
    "ExecuteTime": {
     "end_time": "2020-09-05T21:06:10.277489Z",
     "start_time": "2020-09-05T21:06:10.149792Z"
    },
    "colab": {
     "base_uri": "https://localhost:8080/",
     "height": 178
    },
    "colab_type": "code",
    "id": "iEEuH283HUMG",
    "outputId": "40573afa-03eb-469d-e4fb-52737d5abe7a"
   },
   "outputs": [
    {
     "data": {
      "image/png": "[encoded data removed]",
      "text/plain": [
       "<Figure size 432x288 with 1 Axes>"
      ]
     },
     "metadata": {
      "needs_background": "light",
      "tags": []
     },
     "output_type": "display_data"
    }
   ],
   "source": [
    "attention_layer = AttentionLayer(in_channels=3, out_channels=2, key_channels=3)\n",
    "z = attention_layer((sample_seq.rename(None)))\n",
    "plt.imshow(z[0].detach().numpy());\n",
    "plt.xlabel(\"Sequence id\");\n",
    "plt.ylabel(\"Features\");"
   ]
  },
  {
   "cell_type": "markdown",
   "metadata": {
    "colab_type": "text",
    "id": "9qTIMYY5jXgw"
   },
   "source": [
    "In this case we specified the attention layer output to have 2 features, so the number of features after apply the attention layer has changed. But of course, the sequence length has not changed. \n",
    "\n",
    "We can also see what the attention matrix looks like:"
   ]
  },
  {
   "cell_type": "code",
   "execution_count": 10,
   "metadata": {
    "ExecuteTime": {
     "end_time": "2020-09-05T21:06:10.410588Z",
     "start_time": "2020-09-05T21:06:10.279373Z"
    },
    "colab": {
     "base_uri": "https://localhost:8080/",
     "height": 279
    },
    "colab_type": "code",
    "id": "A4w5SZBNHUMJ",
    "outputId": "ccab0f81-efdb-4339-eb7a-85fa52533b19"
   },
   "outputs": [
    {
     "data": {
      "image/png": "[encoded data removed]",
      "text/plain": [
       "<Figure size 432x288 with 1 Axes>"
      ]
     },
     "metadata": {
      "needs_background": "light",
      "tags": []
     },
     "output_type": "display_data"
    }
   ],
   "source": [
    "plt.imshow(attention_layer.attention((sample_seq.rename(None)))[0].detach().numpy())\n",
    "plt.xlabel(\"Sequence id\")\n",
    "plt.ylabel(\"Sequence id\");"
   ]
  },
  {
   "cell_type": "markdown",
   "metadata": {
    "colab_type": "text",
    "id": "3jRMFA0xjoSC"
   },
   "source": [
    "Since the sequence length is 6, the attention matrix is a 6-by-6 square matrix. In this case since the attention layer is randomly initialized (and the input is random), the attention matrix is not so interesting. It will be much more interesting to look at it when we have trained it for our toy task"
   ]
  },
  {
   "cell_type": "markdown",
   "metadata": {
    "colab_type": "text",
    "id": "_LocNqffHUML"
   },
   "source": [
    "# Network architecture\n",
    "\n",
    "We will define a network architecture that consists of a series of convolutional plus a single attention layer. And as usual we need to define an optimizer and a loss function."
   ]
  },
  {
   "cell_type": "code",
   "execution_count": 11,
   "metadata": {
    "ExecuteTime": {
     "end_time": "2020-09-05T21:06:10.417903Z",
     "start_time": "2020-09-05T21:06:10.412244Z"
    },
    "colab": {},
    "colab_type": "code",
    "id": "mzK0VcL1HUML"
   },
   "outputs": [],
   "source": [
    "in_channels = 1 \n",
    "ks = 5\n",
    "nc = 64\n",
    "\n",
    "model = nn.Sequential(OrderedDict({\n",
    "    'conv1': nn.Conv1d(in_channels, nc, kernel_size = ks, padding = ks//2),\n",
    "    'relu1': nn.ReLU(),\n",
    "    'conv2': nn.Conv1d(nc, nc, kernel_size = ks, padding = ks//2),\n",
    "    'relu2': nn.ReLU(),\n",
    "    'attention': AttentionLayer(nc, nc, nc),\n",
    "    'relu3': nn.ReLU(),\n",
    "    'conv3': nn.Conv1d(nc, nc, kernel_size = ks, padding = ks//2),\n",
    "    'relu4': nn.ReLU(),\n",
    "    'conv4': nn.Conv1d(nc,  1, kernel_size = ks, padding = ks//2)    \n",
    "\n",
    "})\n",
    ")"
   ]
  },
  {
   "cell_type": "code",
   "execution_count": 12,
   "metadata": {
    "ExecuteTime": {
     "end_time": "2020-09-05T21:06:10.423859Z",
     "start_time": "2020-09-05T21:06:10.419540Z"
    },
    "colab": {},
    "colab_type": "code",
    "id": "BsqTF5AAHUMO"
   },
   "outputs": [],
   "source": [
    "optimizer = torch.optim.Adam(model.parameters(), lr = 1e-3)\n",
    "mse_loss = nn.MSELoss()"
   ]
  },
  {
   "cell_type": "markdown",
   "metadata": {
    "colab_type": "text",
    "id": "xN2wOqyKHUMR"
   },
   "source": [
    "## Transfer data to device\n",
    "\n",
    "We'll transfer the data to GPU if available."
   ]
  },
  {
   "cell_type": "code",
   "execution_count": 13,
   "metadata": {
    "ExecuteTime": {
     "end_time": "2020-09-05T21:06:10.429107Z",
     "start_time": "2020-09-05T21:06:10.425672Z"
    },
    "colab": {
     "base_uri": "https://localhost:8080/",
     "height": 34
    },
    "colab_type": "code",
    "id": "XigdUkWtHUMR",
    "outputId": "baff6f0e-ccc1-47cb-efe5-719261b2128e"
   },
   "outputs": [
    {
     "name": "stdout",
     "output_type": "stream",
     "text": [
      "usnig cuda\n"
     ]
    }
   ],
   "source": [
    "if torch.cuda.is_available():\n",
    "    device = torch.device('cuda')\n",
    "    print(\"usnig cuda\")\n",
    "    torch.backends.cudnn.benchmark = True\n",
    "else:\n",
    "    device = torch.device('cpu')\n",
    "    print(\"usnig cpu\")"
   ]
  },
  {
   "cell_type": "code",
   "execution_count": 14,
   "metadata": {
    "ExecuteTime": {
     "end_time": "2020-09-05T21:06:10.435023Z",
     "start_time": "2020-09-05T21:06:10.430960Z"
    },
    "colab": {},
    "colab_type": "code",
    "id": "daoJibfGHUMU"
   },
   "outputs": [],
   "source": [
    "model.to(device)\n",
    "mse_loss.to(device)\n",
    "train_input, train_targets = train_input.to(device), train_targets.to(device)\n",
    "test_input, test_targets = test_input.to(device), test_targets.to(device)"
   ]
  },
  {
   "cell_type": "code",
   "execution_count": 15,
   "metadata": {
    "ExecuteTime": {
     "end_time": "2020-09-05T21:06:10.466321Z",
     "start_time": "2020-09-05T21:06:10.436637Z"
    },
    "colab": {
     "base_uri": "https://localhost:8080/",
     "height": 34
    },
    "colab_type": "code",
    "id": "uUKacsLhHUMW",
    "outputId": "d89aace0-2872-442b-c754-3209d7eeedf8",
    "scrolled": false
   },
   "outputs": [
    {
     "data": {
      "text/plain": [
       "(tensor(3.3155, device='cuda:0'), tensor(6.2290, device='cuda:0'))"
      ]
     },
     "execution_count": 15,
     "metadata": {
      "tags": []
     },
     "output_type": "execute_result"
    }
   ],
   "source": [
    "mu, std = train_input.mean(), train_input.std()\n",
    "mu, std"
   ]
  },
  {
   "cell_type": "markdown",
   "metadata": {
    "colab_type": "text",
    "id": "CHNxFu8KHUMY"
   },
   "source": [
    "# Run training loop\n",
    "\n",
    "Here is our training loop where we do the actual training on the train set!"
   ]
  },
  {
   "cell_type": "code",
   "execution_count": 16,
   "metadata": {
    "ExecuteTime": {
     "end_time": "2020-09-05T21:06:10.471236Z",
     "start_time": "2020-09-05T21:06:10.468084Z"
    },
    "colab": {},
    "colab_type": "code",
    "id": "_LFPH9yCHUMZ"
   },
   "outputs": [],
   "source": [
    "nb_epochs = 250\n",
    "batch_size = 100"
   ]
  },
  {
   "cell_type": "code",
   "execution_count": 17,
   "metadata": {
    "ExecuteTime": {
     "end_time": "2020-09-05T21:06:37.314315Z",
     "start_time": "2020-09-05T21:06:10.473616Z"
    },
    "colab": {
     "base_uri": "https://localhost:8080/",
     "height": 476
    },
    "colab_type": "code",
    "id": "AUT0dpGyHUMb",
    "outputId": "9449288a-5af8-49f3-86ef-008f36d3e1b5"
   },
   "outputs": [
    {
     "name": "stdout",
     "output_type": "stream",
     "text": [
      "10 74.30770091712475\n",
      "20 43.798132710158825\n",
      "30 31.895648308098316\n",
      "40 15.402589939534664\n",
      "50 10.172132920473814\n",
      "60 8.034096809104085\n",
      "70 6.758821323513985\n",
      "80 6.073123877868056\n",
      "90 5.4043652676045895\n",
      "100 5.256836259737611\n",
      "110 4.724082819186151\n",
      "120 4.461669431999326\n",
      "130 4.297329645603895\n",
      "140 4.101263051852584\n",
      "150 3.966436334885657\n",
      "160 3.8430571081116796\n",
      "170 3.7650410644710064\n",
      "180 3.6482473956421018\n",
      "190 3.511861938983202\n",
      "200 3.543422100134194\n",
      "210 3.381012061610818\n",
      "220 3.324472075328231\n",
      "230 21.796805971302092\n",
      "240 3.5196584993973374\n",
      "250 3.3947828505188227\n",
      "CPU times: user 3min 37s, sys: 2.79 s, total: 3min 40s\n",
      "Wall time: 3min 44s\n"
     ]
    }
   ],
   "source": [
    "%%time\n",
    "for e in range(nb_epochs):\n",
    "\n",
    "    acc_loss = 0.0\n",
    "\n",
    "    for tr_in, tr_target in zip(train_input.split(batch_size),\n",
    "                             train_targets.split(batch_size)):\n",
    "\n",
    "        output = model((tr_in - mu) / std)\n",
    "        loss = mse_loss(output, tr_target)\n",
    "\n",
    "        optimizer.zero_grad()\n",
    "        loss.backward()\n",
    "        optimizer.step()\n",
    "\n",
    "        acc_loss += loss.item()\n",
    "\n",
    "    if (e+1)%10 == 0:\n",
    "        print(f'{e+1} {acc_loss}')"
   ]
  },
  {
   "cell_type": "markdown",
   "metadata": {
    "colab_type": "text",
    "id": "Q-RE0RZEkasg"
   },
   "source": [
    "# Visualize network output after training\n",
    "\n",
    "Now that we have trained the network, lets see how it does in generalizing to new examples. "
   ]
  },
  {
   "cell_type": "code",
   "execution_count": 18,
   "metadata": {
    "colab": {},
    "colab_type": "code",
    "id": "neuLEASuHUMd"
   },
   "outputs": [],
   "source": [
    "output = model((test_input - mu) / std)"
   ]
  },
  {
   "cell_type": "code",
   "execution_count": 19,
   "metadata": {
    "colab": {
     "base_uri": "https://localhost:8080/",
     "height": 279
    },
    "colab_type": "code",
    "id": "9s5Zjw2OHUMg",
    "outputId": "8fb1ae51-cfa4-41cb-f69b-87b56bb984bd"
   },
   "outputs": [
    {
     "data": {
      "image/png": "[encoded data removed]",
      "text/plain": [
       "<Figure size 432x288 with 1 Axes>"
      ]
     },
     "metadata": {
      "needs_background": "light",
      "tags": []
     },
     "output_type": "display_data"
    }
   ],
   "source": [
    "plt.plot(output[0].detach().cpu().squeeze(), label = \"network output\")\n",
    "plt.plot(test_targets[0].detach().cpu().squeeze(), label = \"desired output\")\n",
    "plt.legend()\n",
    "plt.xlabel(\"Sequence id\");"
   ]
  },
  {
   "cell_type": "markdown",
   "metadata": {
    "colab_type": "text",
    "id": "NJG8jNPdkhw6"
   },
   "source": [
    "# Visualize attention matrix\n",
    "\n",
    "We can also visualize which parts of the sequence the attention layer pays attention to by visualizing the attention matrix. We do this by computing the features for each intermediate layer until we get the attention layer. At the attention layer we just compute the attenion matrix for the intermediate feature set. "
   ]
  },
  {
   "cell_type": "code",
   "execution_count": 20,
   "metadata": {
    "colab": {},
    "colab_type": "code",
    "id": "lqfB2uV9Rao5"
   },
   "outputs": [],
   "source": [
    "example_input = (test_input[:1] - mu) / std"
   ]
  },
  {
   "cell_type": "code",
   "execution_count": 21,
   "metadata": {
    "colab": {
     "base_uri": "https://localhost:8080/",
     "height": 102
    },
    "colab_type": "code",
    "id": "y_GKq8m1RuKw",
    "outputId": "1e731b3f-e5dd-4008-ce31-120525d40ae1"
   },
   "outputs": [
    {
     "name": "stdout",
     "output_type": "stream",
     "text": [
      "conv1\n",
      "relu1\n",
      "conv2\n",
      "relu2\n",
      "attention\n"
     ]
    }
   ],
   "source": [
    "features = [example_input]\n",
    "for name, layer in model.named_children():\n",
    "    print(name)\n",
    "    if name == \"attention\":\n",
    "        break    \n",
    "    intermediate_features = layer(features[-1])\n",
    "    features.append(intermediate_features)"
   ]
  },
  {
   "cell_type": "code",
   "execution_count": 22,
   "metadata": {
    "colab": {
     "base_uri": "https://localhost:8080/",
     "height": 715
    },
    "colab_type": "code",
    "id": "9iwAgAuQSLUP",
    "outputId": "d25fc33a-8eae-4571-c679-67cbc1860536"
   },
   "outputs": [
    {
     "data": {
      "image/png": "[encoded data removed]",
      "text/plain": [
       "<Figure size 1728x864 with 1 Axes>"
      ]
     },
     "metadata": {
      "needs_background": "light",
      "tags": []
     },
     "output_type": "display_data"
    }
   ],
   "source": [
    "plt.figure(figsize = (24,12))\n",
    "plt.imshow(layer.attention(features[-1])[0].detach().cpu().numpy())\n",
    "plt.xlabel(\"Sequence id\")\n",
    "plt.ylabel(\"Sequence id\");"
   ]
  },
  {
   "cell_type": "code",
   "execution_count": 22,
   "metadata": {
    "colab": {},
    "colab_type": "code",
    "id": "aNWym8UCSTFj"
   },
   "outputs": [],
   "source": []
  }
 ],
 "metadata": {
  "accelerator": "GPU",
  "colab": {
   "include_colab_link": true,
   "name": "demo.ipynb",
   "provenance": []
  },
  "kernelspec": {
   "display_name": "Python 3",
   "language": "python",
   "name": "python3"
  },
  "language_info": {
   "codemirror_mode": {
    "name": "ipython",
    "version": 3
   },
   "file_extension": ".py",
   "mimetype": "text/x-python",
   "name": "python",
   "nbconvert_exporter": "python",
   "pygments_lexer": "ipython3",
   "version": "3.8.5"
  }
 },
 "nbformat": 4,
 "nbformat_minor": 1
}
